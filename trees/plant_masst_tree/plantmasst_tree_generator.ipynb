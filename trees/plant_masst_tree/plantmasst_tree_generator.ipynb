{
 "cells": [
  {
   "cell_type": "markdown",
   "id": "05f731b4",
   "metadata": {},
   "source": [
    "# Tree generator for plantMASST \n",
    "\n",
    "The following code is used to generate the final JSON file used for tree visualisation in plantMASST.\n",
    "\n",
    "The tree is generate using ETE3 Toolkit (http://etetoolkit.org/download/)"
   ]
  },
  {
   "cell_type": "code",
   "execution_count": null,
   "id": "f4add62d",
   "metadata": {},
   "outputs": [],
   "source": [
    "# Import required packages\n",
    "from ete3 import PhyloTree, NCBITaxa, Tree\n",
    "import pandas as pd\n",
    "import json, random, os"
   ]
  },
  {
   "cell_type": "code",
   "execution_count": null,
   "id": "5893a77f",
   "metadata": {},
   "outputs": [],
   "source": [
    "# Define working directory\n",
    "os.chdir('/Users/simonezuffa/PycharmProjects/microbe_masst/trees/plant_masst_tree')"
   ]
  },
  {
   "cell_type": "markdown",
   "id": "a41cd3be",
   "metadata": {},
   "source": [
    "Import list of NCBI IDs extracted from lineages obtained from plantmasst_tree_generator.R"
   ]
  },
  {
   "cell_type": "code",
   "execution_count": null,
   "id": "a0429477",
   "metadata": {},
   "outputs": [],
   "source": [
    "df = pd.read_csv('list_ncbi_plantmasst.csv')"
   ]
  },
  {
   "cell_type": "code",
   "execution_count": null,
   "id": "106d0de5",
   "metadata": {},
   "outputs": [],
   "source": [
    "id_list = df['id']"
   ]
  },
  {
   "cell_type": "code",
   "execution_count": null,
   "id": "f0a56fdf",
   "metadata": {},
   "outputs": [],
   "source": [
    "ncbi = NCBITaxa()\n",
    "#ncbi.update_taxonomy_database() run this line if NCBI IDs are missing downstream"
   ]
  },
  {
   "cell_type": "markdown",
   "id": "e389db30",
   "metadata": {},
   "source": [
    "Generate a raw tree and save it"
   ]
  },
  {
   "cell_type": "code",
   "execution_count": null,
   "id": "9ed57cbe",
   "metadata": {},
   "outputs": [],
   "source": [
    "tree = ncbi.get_topology(id_list)\n",
    "tree.write(format = 1, outfile = \"plantmasst_tree_raw.nw\")"
   ]
  },
  {
   "cell_type": "markdown",
   "id": "ffb70e49",
   "metadata": {},
   "source": [
    "Read the raw tree and extract extra nodes"
   ]
  },
  {
   "cell_type": "code",
   "execution_count": null,
   "id": "3a4693a8",
   "metadata": {},
   "outputs": [],
   "source": [
    "plant_tree = Tree(\"plantmasst_tree_raw.nw\", format = 1)"
   ]
  },
  {
   "cell_type": "markdown",
   "id": "09859ac1",
   "metadata": {},
   "source": [
    "Convert tree into JSON "
   ]
  },
  {
   "cell_type": "code",
   "execution_count": null,
   "id": "1fc1e31c",
   "metadata": {
    "scrolled": true
   },
   "outputs": [],
   "source": [
    "# Function to convert ete3 tree to json. \n",
    "# Code adapted from https://gist.github.com/jhcepas/9205262\n",
    "def get_json(node):\n",
    "    # Read ETE tag for duplication or speciation events\n",
    "    if not hasattr(node, 'evoltype'):\n",
    "        dup = random.sample(['N','Y'], 1)[0]\n",
    "    elif node.evoltype == \"S\":\n",
    "        dup = \"N\"\n",
    "    elif node.evoltype == \"D\":\n",
    "        dup = \"Y\"\n",
    "\n",
    "    node.name = node.name.replace(\"'\", '')\n",
    "\n",
    "    json = { \"NCBI\": node.name,\n",
    "             \"duplication\": dup,\n",
    "             \"type\": \"node\" if node.children else \"leaf\",\n",
    "             }\n",
    "    if node.children:\n",
    "        json[\"children\"] = []\n",
    "        for ch in node.children:\n",
    "            json[\"children\"].append(get_json(ch))\n",
    "    return json"
   ]
  },
  {
   "cell_type": "code",
   "execution_count": null,
   "id": "c5422fbc",
   "metadata": {},
   "outputs": [],
   "source": [
    "# Transform newick tree into json format\n",
    "plant_tree_json = get_json(plant_tree)"
   ]
  },
  {
   "cell_type": "code",
   "execution_count": null,
   "id": "d9a2ab52",
   "metadata": {},
   "outputs": [],
   "source": [
    "# Save raw tree file\n",
    "with open('plantmasst_tree_raw.json', 'w') as outfile:\n",
    "    outfile.write(json.dumps(plant_tree_json, indent = 5))"
   ]
  },
  {
   "cell_type": "markdown",
   "id": "323dc51f",
   "metadata": {},
   "source": [
    "Check extra nodes present in the tree generated with ete3. These will have to be removed"
   ]
  },
  {
   "cell_type": "code",
   "execution_count": null,
   "id": "f938bfd6",
   "metadata": {},
   "outputs": [],
   "source": [
    "# Function to extract all node names\n",
    "def traverse_tree(value_list, node, key):\n",
    "    value = node.get(key)\n",
    "    if value is not None:\n",
    "        value_list.append(value)\n",
    "    children = node.get(\"children\")\n",
    "    if children is not None:\n",
    "        for child in children:\n",
    "            traverse_tree(value_list, child, key)\n",
    "\n",
    "    return value_list"
   ]
  },
  {
   "cell_type": "code",
   "execution_count": null,
   "id": "8e455931",
   "metadata": {},
   "outputs": [],
   "source": [
    "# Extract all the nodes names\n",
    "names = traverse_tree([], plant_tree_json, \"NCBI\")\n",
    "names.sort()\n",
    "dataframe_name = pd.DataFrame(names)\n",
    "dataframe_name.rename(columns = {0:'NCBI'}, inplace = True)\n",
    "dataframe_name.to_csv('Extracted_nodes_plant.csv')"
   ]
  },
  {
   "cell_type": "markdown",
   "id": "521c77c3",
   "metadata": {},
   "source": [
    "Remove extra nodes that have been generated by ETE3 (make sure csv file is fixed - one column with no NAs)\n",
    "Check plantmasst_tree_generator.R to generate nodes_to_remove.csv"
   ]
  },
  {
   "cell_type": "code",
   "execution_count": null,
   "id": "0c8e0500",
   "metadata": {},
   "outputs": [],
   "source": [
    "nodes_to_remove = pd.read_csv('nodes_to_remove.csv', dtype = str)['NCBI']"
   ]
  },
  {
   "cell_type": "code",
   "execution_count": null,
   "id": "e6d32e85",
   "metadata": {},
   "outputs": [],
   "source": [
    "for k in nodes_to_remove :\n",
    "    i = tree.search_nodes(name = k)[0]\n",
    "    i.delete()"
   ]
  },
  {
   "cell_type": "markdown",
   "id": "99e0e000",
   "metadata": {},
   "source": [
    "Save trimmed tree"
   ]
  },
  {
   "cell_type": "code",
   "execution_count": null,
   "id": "3edfbf3b",
   "metadata": {},
   "outputs": [],
   "source": [
    "tree.write(format = 1, outfile = \"plantmasst_tree_trimmed.nw\")"
   ]
  },
  {
   "cell_type": "markdown",
   "id": "3c6f9633",
   "metadata": {},
   "source": [
    "Read in trimmed tree and convert it to a JSON"
   ]
  },
  {
   "cell_type": "code",
   "execution_count": null,
   "id": "b8de1e64",
   "metadata": {},
   "outputs": [],
   "source": [
    "tree_trimmed = Tree(\"plantmasst_tree_trimmed.nw\", format = 1)\n",
    "plant_tree_json = get_json(tree_trimmed)"
   ]
  },
  {
   "cell_type": "code",
   "execution_count": null,
   "id": "22dfebff",
   "metadata": {},
   "outputs": [],
   "source": [
    "# Create a dictionary from the intial df\n",
    "lineage_dict = pd.Series(df['name'].values, index = df['id']).to_dict()\n",
    "lineage_dict = {str(k):str(v) for k,v in lineage_dict.items()}"
   ]
  },
  {
   "cell_type": "code",
   "execution_count": null,
   "id": "529a0f2c",
   "metadata": {},
   "outputs": [],
   "source": [
    "# Function to add NCBI IDs to each node\n",
    "def append_tree(node, lineage_dict, key = \"NCBI\"):\n",
    "    value = node.get(key)\n",
    "    taxonID = lineage_dict.get(value)\n",
    "    if taxonID is not None  :\n",
    "        node['name'] = taxonID\n",
    "    children = node.get(\"children\")\n",
    "    if children is not None:\n",
    "        for child in children:\n",
    "            append_tree(child, lineage_dict, key)"
   ]
  },
  {
   "cell_type": "code",
   "execution_count": null,
   "id": "ec30c2da",
   "metadata": {},
   "outputs": [],
   "source": [
    "# Append NCBI IDs to all nodes\n",
    "append_tree(plant_tree_json, lineage_dict)"
   ]
  },
  {
   "cell_type": "code",
   "execution_count": null,
   "id": "59439c4f",
   "metadata": {},
   "outputs": [],
   "source": [
    "# Add nodes for Blanks and QCs to the tree\n",
    "Blank = {\n",
    "    \"name\": \"Blank\",\n",
    "    \"NCBI\": \"Blank\"\n",
    " }\n",
    "\n",
    "plant_tree_json['children'].append(Blank)\n",
    "\n",
    "QC = {\n",
    "    \"name\": \"QC\",\n",
    "    \"NCBI\": \"QC\"\n",
    " }\n",
    "\n",
    "plant_tree_json['children'].append(QC)"
   ]
  },
  {
   "cell_type": "markdown",
   "id": "1d1fd69e",
   "metadata": {},
   "source": [
    "Add number of files available for each node"
   ]
  },
  {
   "cell_type": "code",
   "execution_count": null,
   "id": "c166f6bb",
   "metadata": {},
   "outputs": [],
   "source": [
    "# Read df with all files available for microbeMASST\n",
    "table_plantMASST = pd.read_csv('plant_masst_table.csv', encoding = 'latin-1', dtype = 'str')"
   ]
  },
  {
   "cell_type": "code",
   "execution_count": null,
   "id": "323f9c81",
   "metadata": {},
   "outputs": [],
   "source": [
    "# Count how many files are available for each NCBI ID\n",
    "available_files = table_plantMASST['Taxa_NCBI'].value_counts()\n",
    "available_files = available_files.rename_axis(\"NCBI_ID\").reset_index()\n",
    "available_files = available_files.rename(columns={\"Taxa_NCBI\": \"File_available\"})"
   ]
  },
  {
   "cell_type": "code",
   "execution_count": null,
   "id": "c5146443",
   "metadata": {},
   "outputs": [],
   "source": [
    "# Make a dictionary\n",
    "numfiles_dict = pd.Series(available_files['File_available'].values, index = available_files['NCBI_ID']).to_dict()"
   ]
  },
  {
   "cell_type": "code",
   "execution_count": null,
   "id": "d5c881e5",
   "metadata": {},
   "outputs": [],
   "source": [
    "# Function to add numer of available files\n",
    "def filenum_tree(node, numfile_dict, key = \"NCBI\"):\n",
    "    value = node.get(key)\n",
    "    number_files = numfiles_dict.get(value)\n",
    "    if number_files is not None :\n",
    "        node['group_size'] = number_files\n",
    "    children = node.get(\"children\")\n",
    "    if children is not None :\n",
    "        for child in children :\n",
    "            filenum_tree(child, numfiles_dict, key)"
   ]
  },
  {
   "cell_type": "code",
   "execution_count": null,
   "id": "02e2e27f",
   "metadata": {},
   "outputs": [],
   "source": [
    "# Append number of files\n",
    "filenum_tree(plant_tree_json, numfiles_dict)"
   ]
  },
  {
   "cell_type": "code",
   "execution_count": null,
   "id": "329d9ed8",
   "metadata": {},
   "outputs": [],
   "source": [
    "# Make a dictionary for ranks \n",
    "rank_dict = pd.Series(df['rank'].values, index = df['id']).to_dict()\n",
    "rank_dict = {str(k):str(v) for k,v in rank_dict.items()}"
   ]
  },
  {
   "cell_type": "code",
   "execution_count": null,
   "id": "f06180d2",
   "metadata": {},
   "outputs": [],
   "source": [
    "# Function to add taxonomic level to nodes\n",
    "def append_rank(node, rank_dict, key = \"NCBI\"):\n",
    "    value = node.get(key)\n",
    "    rankID = rank_dict.get(value)\n",
    "    if rankID is not None  :\n",
    "        node['Rank'] = rankID\n",
    "    children = node.get(\"children\")\n",
    "    if children is not None:\n",
    "        for child in children:\n",
    "            append_rank(child, rank_dict, key)"
   ]
  },
  {
   "cell_type": "code",
   "execution_count": null,
   "id": "58b69c1a",
   "metadata": {},
   "outputs": [],
   "source": [
    "# Append taxonomy ranks\n",
    "append_rank(plant_tree_json, rank_dict)"
   ]
  },
  {
   "cell_type": "code",
   "execution_count": null,
   "id": "e0aa2a12",
   "metadata": {},
   "outputs": [],
   "source": [
    "# Save final tree file\n",
    "with open('plant_masst_tree.json', 'w') as outfile:\n",
    "    outfile.write(json.dumps(plant_tree_json, indent = 5))"
   ]
  },
  {
   "cell_type": "markdown",
   "id": "81e68183",
   "metadata": {},
   "source": [
    "Manually add Root to the  - \"NCBI\": \"131567\" and \"name\": \"Root\""
   ]
  }
 ],
 "metadata": {
  "kernelspec": {
   "display_name": "Python 3",
   "language": "python",
   "name": "python3"
  },
  "language_info": {
   "codemirror_mode": {
    "name": "ipython",
    "version": 3
   },
   "file_extension": ".py",
   "mimetype": "text/x-python",
   "name": "python",
   "nbconvert_exporter": "python",
   "pygments_lexer": "ipython3",
   "version": "3.6.13"
  }
 },
 "nbformat": 4,
 "nbformat_minor": 5
}
