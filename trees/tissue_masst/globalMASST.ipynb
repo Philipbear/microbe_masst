{
 "cells": [
  {
   "cell_type": "markdown",
   "id": "2bf23489",
   "metadata": {},
   "source": [
    "## Tree generator for tissueMASST\n",
    "\n",
    "As a taxonomic tree cannot be generated, a different approach has been adopted. This tool is designed to help researchers identify whether known or unknown MS/MS spectra have been observed in specific biofluids or tissues, and if so, in relation to which diseases. The first layer represents bio-localization, the second layer disease-assosciated status, the third the organism in which was found (data was restricted to Homo sapiens, Mus musculus, and Rattus norvegicus), the fourth layer sex, and the fifth age. Tree relies on the metadata information available via PanReDU. "
   ]
  },
  {
   "cell_type": "code",
   "execution_count": 1,
   "id": "42e7aec8",
   "metadata": {},
   "outputs": [],
   "source": [
    "import pandas as pd\n",
    "import numpy as np\n",
    "import json"
   ]
  },
  {
   "cell_type": "markdown",
   "id": "146922a2",
   "metadata": {},
   "source": [
    "Read in table originated from ReDU metadata and curated in R"
   ]
  },
  {
   "cell_type": "code",
   "execution_count": 2,
   "id": "3aefe75d",
   "metadata": {},
   "outputs": [],
   "source": [
    "data = pd.read_csv(\"tissue_masst_table.csv\")"
   ]
  },
  {
   "cell_type": "markdown",
   "id": "4c817d38",
   "metadata": {},
   "source": [
    "Extract vectors of unique terms"
   ]
  },
  {
   "cell_type": "code",
   "execution_count": 3,
   "id": "52838a59",
   "metadata": {},
   "outputs": [],
   "source": [
    "Biolocalization_array = data['UBERONBodyPartName'].unique()\n",
    "Disease_array = data['DOIDCommonName'].unique()\n",
    "Taxa_array = data['NCBITaxonomy'].unique()\n",
    "Sex_array = data['BiologicalSex'].unique()\n",
    "Age_array = data['LifeStage'].unique()\n",
    "\n",
    "# Convert arrays to vectors\n",
    "Biolocalization_vector = Biolocalization_array.flatten()\n",
    "Disease_vector = Disease_array.flatten()\n",
    "Taxa_vector = Taxa_array.flatten()\n",
    "Sex_vector = Sex_array.flatten()\n",
    "Age_vector = Age_array.flatten()"
   ]
  },
  {
   "cell_type": "markdown",
   "id": "f95a1163",
   "metadata": {},
   "source": [
    "Create dictionary and sequentially append terms"
   ]
  },
  {
   "cell_type": "code",
   "execution_count": 4,
   "id": "1f5d4461",
   "metadata": {},
   "outputs": [],
   "source": [
    "# Define the dictionary\n",
    "\n",
    "tree = {\n",
    "    \"ID\": \"Root\",\n",
    "    \"duplication\": \"Y\",\n",
    "    \"type\": \"node\",\n",
    "    \"name\": \"Root\",\n",
    "    \"children\": []\n",
    "}\n",
    "\n",
    "# Loop through each Biolocalization\n",
    "for loc in Biolocalization_vector:\n",
    "    # Create a dictionary for the Biolocalization\n",
    "    loc_dict = {\n",
    "        \"ID\": loc,\n",
    "        \"duplication\": \"Y\",\n",
    "        \"type\": \"node\",\n",
    "        \"name\": loc,\n",
    "        \"children\": []\n",
    "    }\n",
    "    # Loop through each Disease\n",
    "    for disease in Disease_vector:\n",
    "        # Create a dictionary for the Disease\n",
    "        disease_dict = {\n",
    "            \"ID\": loc + \"_\" + disease,\n",
    "            \"duplication\": \"Y\",\n",
    "            \"type\": \"node\",\n",
    "            \"name\": disease,\n",
    "            \"children\": []\n",
    "        }\n",
    "        # Loop through each Taxa\n",
    "        for taxa in Taxa_vector:\n",
    "            # Create a dictionary for the Taxa\n",
    "            taxa_dict = {\n",
    "                \"ID\": loc + \"_\" + disease + \"_\" + taxa,\n",
    "                \"duplication\": \"Y\",\n",
    "                \"type\": \"node\",\n",
    "                \"name\": taxa,\n",
    "                \"children\": []\n",
    "            }\n",
    "            # Loop through each Sex\n",
    "            for sex in Sex_vector:\n",
    "                # Create a dictionary for the Sex\n",
    "                sex_dict = {\n",
    "                    \"ID\": loc + \"_\" + disease + \"_\" + taxa + \"_\" + sex,\n",
    "                    \"duplication\": \"Y\",\n",
    "                    \"type\": \"node\",\n",
    "                    \"name\": sex,\n",
    "                    \"children\": []\n",
    "                }\n",
    "                # Loop through each Age\n",
    "                for age in Age_vector:\n",
    "                    age_dict = {\n",
    "                        \"ID\": loc + \"_\" + disease + \"_\" + taxa + \"_\" + sex + \"_\" + age,\n",
    "                        \"duplication\": \"Y\",\n",
    "                        \"type\": \"leaf\",\n",
    "                        \"name\": age\n",
    "                    }\n",
    "                    # Append the Age dictionary to the Sex dictionary\n",
    "                    sex_dict['children'].append(age_dict)\n",
    "                # Append the Sex dictionary to the Taxa dictionary\n",
    "                taxa_dict['children'].append(sex_dict)\n",
    "            # Append the Taxa dictionary to the Disease dictionary\n",
    "            disease_dict['children'].append(taxa_dict)\n",
    "        # Append the Disease dictionary to the Biolocalization dictionary\n",
    "        loc_dict['children'].append(disease_dict)\n",
    "    # Append the Biolocalization dictionary to the Root\n",
    "    tree['children'].append(loc_dict)\n",
    "\n",
    "# Convert the dictionary to JSON\n",
    "json_str = json.dumps(tree, indent=5)"
   ]
  },
  {
   "cell_type": "code",
   "execution_count": 6,
   "id": "01bf4793",
   "metadata": {},
   "outputs": [],
   "source": [
    "# Save tree file\n",
    "with open('tissue_masst_tree_initial.json', 'w') as outfile:\n",
    "    outfile.write(json_str)"
   ]
  },
  {
   "cell_type": "markdown",
   "id": "96915b5b",
   "metadata": {},
   "source": [
    "Add number of available files "
   ]
  },
  {
   "cell_type": "code",
   "execution_count": 7,
   "id": "e6d09ebe",
   "metadata": {},
   "outputs": [],
   "source": [
    "# Read df with all files available for globalMASST\n",
    "table_tissue = pd.read_csv('tissue_masst_id_count.csv', encoding = 'latin-1', dtype = 'str')"
   ]
  },
  {
   "cell_type": "code",
   "execution_count": 8,
   "id": "fd86275e",
   "metadata": {},
   "outputs": [],
   "source": [
    "# Make a dictionary\n",
    "numfiles_dict = pd.Series(table_tissue['count'].values, index = table_tissue['ID']).to_dict()"
   ]
  },
  {
   "cell_type": "code",
   "execution_count": 9,
   "id": "453f9fac",
   "metadata": {},
   "outputs": [],
   "source": [
    "# Function to add numer of available files\n",
    "def filenum_tree(node, numfile_dict, key = \"ID\"):\n",
    "    value = node.get(key)\n",
    "    number_files = numfiles_dict.get(value)\n",
    "    if number_files is not None :\n",
    "        node['group_size'] = number_files\n",
    "    children = node.get(\"children\")\n",
    "    if children is not None :\n",
    "        for child in children :\n",
    "            filenum_tree(child, numfiles_dict, key)"
   ]
  },
  {
   "cell_type": "code",
   "execution_count": 10,
   "id": "c7e2d498",
   "metadata": {},
   "outputs": [],
   "source": [
    "# Append number of files\n",
    "filenum_tree(tree, numfiles_dict)"
   ]
  },
  {
   "cell_type": "code",
   "execution_count": 11,
   "id": "122c9739",
   "metadata": {},
   "outputs": [],
   "source": [
    "# Save final tree file\n",
    "with open('tissue_masst_tree_count.json', 'w') as outfile:\n",
    "    outfile.write(json.dumps(tree, indent = 5))"
   ]
  },
  {
   "cell_type": "markdown",
   "id": "cea5df98",
   "metadata": {},
   "source": [
    "The generate JSON is very big because all possible combinations are represented.\n",
    "Trim it in roder to keep only childrens that are actually present in the metadata file."
   ]
  },
  {
   "cell_type": "code",
   "execution_count": 12,
   "id": "2e1a9c7d",
   "metadata": {},
   "outputs": [],
   "source": [
    "def filter_json(data):\n",
    "    if isinstance(data, dict):\n",
    "        children = []\n",
    "        for child in data.get(\"children\", []):\n",
    "            filtered_child = filter_json(child)\n",
    "            if filtered_child is not None:\n",
    "                children.append(filtered_child)\n",
    "        data[\"children\"] = children\n",
    "        if data.get(\"type\") == \"leaf\" and \"group_size\" not in data:\n",
    "            return None\n",
    "        else:\n",
    "            return data\n",
    "    else:\n",
    "        return None\n"
   ]
  },
  {
   "cell_type": "code",
   "execution_count": 13,
   "id": "046ca29d",
   "metadata": {},
   "outputs": [],
   "source": [
    "# Filter the JSON object recursively\n",
    "filtered_data = filter_json(tree)"
   ]
  },
  {
   "cell_type": "code",
   "execution_count": 14,
   "id": "6f6fdea9",
   "metadata": {},
   "outputs": [],
   "source": [
    "# Save final tree file\n",
    "with open('tissue_masst_tree_final.json', 'w') as outfile:\n",
    "    outfile.write(json.dumps(filtered_data, indent = 5))"
   ]
  },
  {
   "cell_type": "markdown",
   "id": "7f4d5669",
   "metadata": {},
   "source": [
    "Remove children without children or any samples"
   ]
  },
  {
   "cell_type": "code",
   "execution_count": 15,
   "id": "670b69b1",
   "metadata": {},
   "outputs": [],
   "source": [
    "def filter_json_children(data):\n",
    "    if isinstance(data, dict):\n",
    "        children = []\n",
    "        for child in data.get(\"children\", []):\n",
    "            filtered_child = filter_json_children(child)\n",
    "            if filtered_child is not None:\n",
    "                children.append(filtered_child)\n",
    "        data[\"children\"] = children\n",
    "        if data.get(\"type\") == \"node\" and (\"group_size\" not in data and not data[\"children\"]):\n",
    "            return None\n",
    "        else:\n",
    "            return data\n",
    "    else:\n",
    "        return None\n"
   ]
  },
  {
   "cell_type": "code",
   "execution_count": 16,
   "id": "d39a11bc",
   "metadata": {},
   "outputs": [],
   "source": [
    "# Filter the JSON object recursively\n",
    "filtered_data1 = filter_json_children(filtered_data)"
   ]
  },
  {
   "cell_type": "code",
   "execution_count": 17,
   "id": "0dd4a64c",
   "metadata": {},
   "outputs": [],
   "source": [
    "# Save final tree file\n",
    "with open('tissue_masst_tree.json', 'w') as outfile:\n",
    "    outfile.write(json.dumps(filtered_data1, indent = 5))"
   ]
  }
 ],
 "metadata": {
  "kernelspec": {
   "display_name": "Python 3 (ipykernel)",
   "language": "python",
   "name": "python3"
  },
  "language_info": {
   "codemirror_mode": {
    "name": "ipython",
    "version": 3
   },
   "file_extension": ".py",
   "mimetype": "text/x-python",
   "name": "python",
   "nbconvert_exporter": "python",
   "pygments_lexer": "ipython3",
   "version": "3.9.13"
  }
 },
 "nbformat": 4,
 "nbformat_minor": 5
}
