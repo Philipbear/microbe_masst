{
 "cells": [
  {
   "cell_type": "code",
   "execution_count": null,
   "outputs": [],
   "source": [
    "import pandas as pd\n",
    "import seaborn as sns\n",
    "from tqdm import tqdm\n",
    "\n",
    "import masst_utils\n",
    "from masst_dataset_summary import create_summary_file, create_multi_index, create_quant_summary"
   ],
   "metadata": {
    "collapsed": false,
    "pycharm": {
     "name": "#%%\n"
    }
   }
  },
  {
   "cell_type": "code",
   "execution_count": null,
   "outputs": [],
   "source": [
    "special_masst = masst_utils.MICROBE_MASST\n",
    "path = r'D:\\Robin\\git\\microbe_masst\\output\\MIND\\\\'\n",
    "out_file = r\"D:\\Robin\\git\\microbe_masst\\output\\summary_mind.csv\"\n",
    "quant_table = r\"D:\\Robin\\git\\microbe_masst\\local_files\\MIND\\MIND_featuretable.csv\"\n",
    "min_matches = 1"
   ],
   "metadata": {
    "collapsed": false,
    "pycharm": {
     "name": "#%%\n"
    }
   }
  },
  {
   "cell_type": "code",
   "execution_count": null,
   "outputs": [],
   "source": [
    "# try import existing file:\n",
    "try:\n",
    "    merged_df = pd.read_csv(out_file, dtype={special_masst.tree_node_key: str})\n",
    "    merged_df = create_multi_index(merged_df, special_masst)\n",
    "except:\n",
    "    merged_df = create_summary_file(path,\n",
    "                                    special_masst=special_masst,\n",
    "                                    out_file=out_file,\n",
    "                                    min_matches=min_matches,\n",
    "                                    matches_to_binary_presence=True\n",
    "                                    )\n",
    "merged_df"
   ],
   "metadata": {
    "collapsed": false,
    "pycharm": {
     "name": "#%%\n"
    }
   }
  },
  {
   "cell_type": "code",
   "execution_count": null,
   "outputs": [],
   "source": [
    "merged_df = create_summary_file(path,\n",
    "                                    special_masst=special_masst,\n",
    "                                    out_file=out_file,\n",
    "                                    min_matches=min_matches,\n",
    "                                    matches_to_binary_presence=True\n",
    "                                    )\n",
    "merged_df"
   ],
   "metadata": {
    "collapsed": false,
    "pycharm": {
     "name": "#%%\n"
    }
   }
  },
  {
   "cell_type": "code",
   "execution_count": null,
   "outputs": [],
   "source": [
    "merged_df.columns = pd.to_numeric(merged_df.columns)\n",
    "final_df =create_quant_summary(quant_table, merged_df, \"../output/test.csv\", True)\n",
    "final_df"
   ],
   "metadata": {
    "collapsed": false,
    "pycharm": {
     "name": "#%%\n"
    }
   }
  },
  {
   "cell_type": "code",
   "execution_count": null,
   "outputs": [],
   "source": [
    "transposed = merged_df.transpose()\n",
    "transposed.index = pd.to_numeric(transposed.index)\n",
    "transposed.sort_index()"
   ],
   "metadata": {
    "collapsed": false,
    "pycharm": {
     "name": "#%%\n"
    }
   }
  },
  {
   "cell_type": "code",
   "execution_count": null,
   "outputs": [],
   "source": [
    "quant_df = quant_df[quant_df.index.get_level_values(\"row ID\").isin(merged_df.columns)].sort_values([\"row ID\"])\n",
    "quant_df"
   ],
   "metadata": {
    "collapsed": false,
    "pycharm": {
     "name": "#%%\n"
    }
   }
  },
  {
   "cell_type": "code",
   "execution_count": null,
   "outputs": [],
   "source": [
    "samples = quant_df.columns\n",
    "final_df = pd.DataFrame(index=merged_df.index, columns=samples).fillna(0)\n",
    "final_df"
   ],
   "metadata": {
    "collapsed": false,
    "pycharm": {
     "name": "#%%\n"
    }
   }
  },
  {
   "cell_type": "code",
   "execution_count": null,
   "outputs": [],
   "source": [
    "merged_df.columns = pd.to_numeric(merged_df.columns)\n",
    "features = merged_df.columns\n",
    "for f in tqdm(features):\n",
    "    try:\n",
    "        _, quant_row = next(quant_df[quant_df.index.get_level_values(\"row ID\")==f].iterrows())\n",
    "\n",
    "        # for value in quant_row:\n",
    "        for sample in samples:\n",
    "            final_df[sample] += merged_df[f]*quant_row[sample]\n",
    "            # final_df.at[index, sample] += quant_row[sample]*\n",
    "    except:\n",
    "        pass\n",
    "final_df"
   ],
   "metadata": {
    "collapsed": false,
    "pycharm": {
     "name": "#%%\n"
    }
   }
  },
  {
   "cell_type": "code",
   "execution_count": null,
   "outputs": [],
   "source": [
    "summed_df = merged_df.sum().reset_index().rename(columns={0: \"Matching NCBI\"})\n",
    "summed_df"
   ],
   "metadata": {
    "collapsed": false,
    "pycharm": {
     "name": "#%%\n"
    }
   }
  },
  {
   "cell_type": "code",
   "execution_count": null,
   "outputs": [],
   "source": [
    "ax = sns.histplot(data=summed_df, x=\"Matching NCBI\", binwidth=1)\n",
    "ax.set_ylim((0, 500))\n",
    "ax.set_xlim((0, 50))"
   ],
   "metadata": {
    "collapsed": false,
    "pycharm": {
     "name": "#%%\n"
    }
   }
  },
  {
   "cell_type": "code",
   "execution_count": null,
   "outputs": [],
   "source": [
    "merged_df_transposed = merged_df.transpose()\n",
    "merged_df_transposed"
   ],
   "metadata": {
    "collapsed": false,
    "pycharm": {
     "name": "#%%\n"
    }
   }
  },
  {
   "cell_type": "code",
   "execution_count": null,
   "outputs": [],
   "source": [
    "merged_df_transposed.sum().reset_index().rename(columns={0: 'Library entries'}).sort_values(by=[\"Library \"\n",
    "                                                                                                \"entries\"],\n",
    "                                                                                            ascending=False)[\n",
    "    \"NCBI\"]\n"
   ],
   "metadata": {
    "collapsed": false,
    "pycharm": {
     "name": "#%%\n"
    }
   }
  },
  {
   "cell_type": "code",
   "execution_count": null,
   "outputs": [],
   "source": [
    "\n",
    "# ax = sns.histplot(data=merged_df_transposed.sum().reset_index(), binwidth=1)\n",
    "# ax.set_ylim((0, 50))\n",
    "# ax.set_xlim((0, 200))"
   ],
   "metadata": {
    "collapsed": false,
    "pycharm": {
     "name": "#%%\n"
    }
   }
  },
  {
   "cell_type": "code",
   "execution_count": null,
   "outputs": [],
   "source": [
    "order_df = final_df[final_df.index.get_level_values(\"Level\") == 5]\n",
    "sns.clustermap(order_df[[col for col in order_df if order_df[col].sum() > 1]],\n",
    "               figsize=(100, 40),\n",
    "               # metric=\"jaccard\",\n",
    "               # row_cluster=False\n",
    "               )"
   ],
   "metadata": {
    "collapsed": false,
    "pycharm": {
     "name": "#%%\n"
    }
   }
  },
  {
   "cell_type": "code",
   "execution_count": null,
   "outputs": [],
   "source": [
    "summed_df = merged_df.sum().reset_index().rename(columns={0: \"Matching NCBI\"})\n",
    "summed_df"
   ],
   "metadata": {
    "collapsed": false,
    "pycharm": {
     "name": "#%%\n"
    }
   }
  },
  {
   "cell_type": "code",
   "execution_count": null,
   "outputs": [],
   "source": [
    "ax = sns.histplot(data=summed_df, x=\"Matching NCBI\", binwidth=1)\n",
    "ax.set_ylim((0, 500))\n",
    "ax.set_xlim((0, 50))"
   ],
   "metadata": {
    "collapsed": false,
    "pycharm": {
     "name": "#%%\n"
    }
   }
  },
  {
   "cell_type": "code",
   "execution_count": null,
   "outputs": [],
   "source": [
    "merged_df_transposed = merged_df.transpose()\n",
    "merged_df_transposed"
   ],
   "metadata": {
    "collapsed": false,
    "pycharm": {
     "name": "#%%\n"
    }
   }
  },
  {
   "cell_type": "code",
   "execution_count": null,
   "outputs": [],
   "source": [
    "merged_df_transposed.sum().reset_index().rename(columns={0: 'Library entries'}).sort_values(by=[\"Library \"\n",
    "                                                                                                \"entries\"],\n",
    "                                                                                            ascending=False)[\n",
    "    \"NCBI\"]\n"
   ],
   "metadata": {
    "collapsed": false,
    "pycharm": {
     "name": "#%%\n"
    }
   }
  },
  {
   "cell_type": "code",
   "execution_count": null,
   "outputs": [],
   "source": [
    "\n",
    "# ax = sns.histplot(data=merged_df_transposed.sum().reset_index(), binwidth=1)\n",
    "# ax.set_ylim((0, 50))\n",
    "# ax.set_xlim((0, 200))"
   ],
   "metadata": {
    "collapsed": false,
    "pycharm": {
     "name": "#%%\n"
    }
   }
  },
  {
   "cell_type": "code",
   "execution_count": null,
   "outputs": [],
   "source": [
    "order_df = final_df[final_df.index.get_level_values(\"Level\") == 5]\n",
    "sns.clustermap(order_df[[col for col in order_df if order_df[col].sum() > 1]],\n",
    "               figsize=(100, 40),\n",
    "               # metric=\"jaccard\",\n",
    "               # row_cluster=False\n",
    "               )"
   ],
   "metadata": {
    "collapsed": false,
    "pycharm": {
     "name": "#%%\n"
    }
   }
  },
  {
   "cell_type": "code",
   "execution_count": null,
   "outputs": [],
   "source": [
    "merged_df.index.get_level_values(\"Rank\")"
   ],
   "metadata": {
    "collapsed": false,
    "pycharm": {
     "name": "#%%\n"
    }
   }
  },
  {
   "cell_type": "code",
   "execution_count": null,
   "outputs": [],
   "source": [
    "order_df[[col for col in order_df if order_df[col].sum() > 4]]"
   ],
   "metadata": {
    "collapsed": false,
    "pycharm": {
     "name": "#%%\n"
    }
   }
  },
  {
   "cell_type": "code",
   "execution_count": null,
   "outputs": [],
   "source": [
    "len(merged_df.columns)"
   ],
   "metadata": {
    "collapsed": false,
    "pycharm": {
     "name": "#%%\n"
    }
   }
  }
 ],
 "metadata": {
  "kernelspec": {
   "display_name": "Python 3",
   "language": "python",
   "name": "python3"
  },
  "language_info": {
   "codemirror_mode": {
    "name": "ipython",
    "version": 2
   },
   "file_extension": ".py",
   "mimetype": "text/x-python",
   "name": "python",
   "nbconvert_exporter": "python",
   "pygments_lexer": "ipython2",
   "version": "2.7.6"
  }
 },
 "nbformat": 4,
 "nbformat_minor": 0
}