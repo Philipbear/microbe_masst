{
 "cells": [
  {
   "cell_type": "code",
   "execution_count": null,
   "metadata": {
    "collapsed": true,
    "pycharm": {
     "name": "#%%\n"
    }
   },
   "outputs": [],
   "source": [
    "import pandas as pd\n",
    "import masst_utils\n",
    "import glob\n",
    "from tqdm import tqdm\n",
    "import re"
   ]
  },
  {
   "cell_type": "code",
   "execution_count": null,
   "outputs": [],
   "source": [
    "parent_directory = r\"D:\\git\\microbe_masst\\output\\piper_vs_microbiome\\\\\"\n",
    "min_cosine = 0.8\n",
    "\n",
    "\n",
    "def create_empty_row():\n",
    "    keys = [\"masst_{}\".format(special_masst.prefix) for special_masst in masst_utils.SPECIAL_MASSTS]\n",
    "    return dict.fromkeys(keys, 0)\n",
    "\n",
    "\n",
    "rows = dict()\n",
    "\n",
    "for special_masst in masst_utils.SPECIAL_MASSTS:\n",
    "    for file in tqdm(glob.glob(parent_directory + f\"*counts_{special_masst.prefix}.tsv\")):\n",
    "        comp_id = re.search(r\"_(\\d+)_counts_\" + special_masst.prefix, file).group(1)\n",
    "\n",
    "        # get number of matches\n",
    "        matches_df = pd.read_csv(file, sep='\\t')\n",
    "        if 'QC' in matches_df.columns:\n",
    "            matches_df = matches_df[(matches_df['QC'] != 'Yes') & (matches_df['Blank'] != 'Yes')]\n",
    "\n",
    "        matches_df = matches_df[matches_df['Cosine'] >= min_cosine]\n",
    "        # exclude piper dataset\n",
    "        matches_df = matches_df[matches_df['Dataset'] != \"MSV000087844\"]\n",
    "\n",
    "        # get or create new\n",
    "        row = rows.get(comp_id, create_empty_row())\n",
    "        row[\"masst_{}\".format(special_masst.prefix)] = len(matches_df)\n",
    "\n",
    "        rows[comp_id] = row\n",
    "\n",
    "df = pd.DataFrame(rows)\n",
    "df"
   ],
   "metadata": {
    "collapsed": false,
    "pycharm": {
     "name": "#%%\n"
    }
   }
  },
  {
   "cell_type": "code",
   "execution_count": null,
   "outputs": [],
   "source": [
    "df = df.transpose()\n",
    "df.index.name = \"rowID\"\n",
    "df"
   ],
   "metadata": {
    "collapsed": false,
    "pycharm": {
     "name": "#%%\n"
    }
   }
  },
  {
   "cell_type": "code",
   "execution_count": null,
   "outputs": [],
   "source": [
    "df.to_csv(r\"D:\\git\\microbe_masst\\output\\summary\\piper_vs_microbiome.csv\")\n",
    "\n"
   ],
   "metadata": {
    "collapsed": false,
    "pycharm": {
     "name": "#%%\n"
    }
   }
  },
  {
   "cell_type": "code",
   "execution_count": null,
   "outputs": [],
   "source": [],
   "metadata": {
    "collapsed": false,
    "pycharm": {
     "name": "#%%\n"
    }
   }
  }
 ],
 "metadata": {
  "kernelspec": {
   "display_name": "Python 3",
   "language": "python",
   "name": "python3"
  },
  "language_info": {
   "codemirror_mode": {
    "name": "ipython",
    "version": 2
   },
   "file_extension": ".py",
   "mimetype": "text/x-python",
   "name": "python",
   "nbconvert_exporter": "python",
   "pygments_lexer": "ipython2",
   "version": "2.7.6"
  }
 },
 "nbformat": 4,
 "nbformat_minor": 0
}
