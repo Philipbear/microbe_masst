{
 "cells": [
  {
   "cell_type": "code",
   "execution_count": 18,
   "metadata": {
    "collapsed": true,
    "pycharm": {
     "name": "#%%\n"
    }
   },
   "outputs": [],
   "source": [
    "import pandas as pd\n",
    "import usi_utils"
   ]
  },
  {
   "cell_type": "code",
   "execution_count": 29,
   "outputs": [],
   "source": [
    "dtype = {\n",
    "    \"filepath\": object,\n",
    "    \"dataset\": object,\n",
    "    \"collection\": object,\n",
    "    \"is_update\": \"int64\",\n",
    "    \"update_name\": object,\n",
    "    \"create_time\": object,\n",
    "    \"size\": \"int64\",\n",
    "    \"size_mb\": \"int64\",\n",
    "    \"sample_type\": object,\n",
    "    \"spectra_ms1\": \"float64\",\n",
    "    \"spectra_ms2\": \"float64\",\n",
    "    \"instrument_vendor\": object,\n",
    "    \"instrument_model\": object,\n",
    "    \"file_processed\": object,\n",
    "    \"file_usi\": object\n",
    "}\n",
    "\n",
    "mzml_stats = pd.read_csv(\"../local_files/all_gnps_files/all_mzml.txt\", dtype=dtype)\n",
    "mzxml_stats = pd.read_csv(\"../local_files/all_gnps_files/all_mzxml.txt\", dtype=dtype)\n",
    "file_stats = pd.concat([mzml_stats, mzxml_stats])"
   ],
   "metadata": {
    "collapsed": false,
    "pycharm": {
     "name": "#%%\n"
    }
   }
  },
  {
   "cell_type": "code",
   "execution_count": 30,
   "outputs": [
    {
     "data": {
      "text/plain": "                                                 filepath       dataset  \\\n0                  MSV000073062/73062/mzml/peaklist1.mzml  MSV000073062   \n1                  MSV000073062/73062/mzml/peaklist2.mzml  MSV000073062   \n2                  MSV000073062/73062/mzml/peaklist3.mzml  MSV000073062   \n3                  MSV000073062/73062/mzml/peaklist4.mzml  MSV000073062   \n4                  MSV000073062/73062/mzml/peaklist5.mzml  MSV000073062   \n...                                                   ...           ...   \n484281  MSV000091804/updates/2023-04-28_Bjosephc_21f27...  MSV000091804   \n484282  MSV000091804/updates/2023-04-28_Bjosephc_21f27...  MSV000091804   \n484283  MSV000091804/updates/2023-04-28_Bjosephc_262e3...  MSV000091804   \n484284  MSV000091804/updates/2023-04-28_Bjosephc_262e3...  MSV000091804   \n484285  MSV000091804/updates/2023-04-28_Bjosephc_262e3...  MSV000091804   \n\n       collection  is_update                   update_name  \\\n0           73062          0                           NaN   \n1           73062          0                           NaN   \n2           73062          0                           NaN   \n3           73062          0                           NaN   \n4           73062          0                           NaN   \n...           ...        ...                           ...   \n484281       peak          1  2023-04-28_Bjosephc_21f275f7   \n484282       peak          1  2023-04-28_Bjosephc_21f275f7   \n484283       peak          1  2023-04-28_Bjosephc_262e347f   \n484284       peak          1  2023-04-28_Bjosephc_262e347f   \n484285       peak          1  2023-04-28_Bjosephc_262e347f   \n\n                create_time       size  size_mb sample_type  spectra_ms1  \\\n0       2013-06-07 00:00:00    7166071        6     DEFAULT          0.0   \n1       2013-06-07 00:00:00    8821747        8     DEFAULT          0.0   \n2       2013-06-07 00:00:00    5751122        5     DEFAULT          0.0   \n3       2013-06-07 00:00:00   10366660        9     DEFAULT          0.0   \n4       2013-06-07 00:00:00    2216166        2     DEFAULT          0.0   \n...                     ...        ...      ...         ...          ...   \n484281  2023-04-26 03:17:00  160338738      152     DEFAULT       8275.0   \n484282  2023-04-26 03:16:00  152195548      145     DEFAULT       7066.0   \n484283  2023-04-26 02:57:00   68710868       65     DEFAULT       3603.0   \n484284  2023-04-26 02:57:00   71670891       68     DEFAULT       3795.0   \n484285  2023-04-26 02:57:00   67641981       64     DEFAULT       3751.0   \n\n        spectra_ms2         instrument_vendor instrument_model file_processed  \\\n0               0.0                       NaN              NaN         FAILED   \n1               0.0                       NaN              NaN         FAILED   \n2               0.0                       NaN              NaN         FAILED   \n3               0.0                       NaN              NaN         FAILED   \n4               0.0                       NaN              NaN         FAILED   \n...             ...                       ...              ...            ...   \n484281         97.0  Thermo Fisher Scientific    Q Exactive HF           DONE   \n484282         33.0  Thermo Fisher Scientific    Q Exactive HF           DONE   \n484283          0.0  Thermo Fisher Scientific    Q Exactive HF           DONE   \n484284          0.0  Thermo Fisher Scientific    Q Exactive HF           DONE   \n484285          0.0  Thermo Fisher Scientific    Q Exactive HF           DONE   \n\n                                file_usi  \n0          mzspec:MSV000073062:peaklist1  \n1          mzspec:MSV000073062:peaklist2  \n2          mzspec:MSV000073062:peaklist3  \n3          mzspec:MSV000073062:peaklist4  \n4          mzspec:MSV000073062:peaklist5  \n...                                  ...  \n484281    mzspec:MSV000091804:2022081803  \n484282    mzspec:MSV000091804:2022081806  \n484283  mzspec:MSV000091804:BJ2022111603  \n484284  mzspec:MSV000091804:BJ2022111604  \n484285  mzspec:MSV000091804:BJ2022111605  \n\n[1080125 rows x 15 columns]",
      "text/html": "<div>\n<style scoped>\n    .dataframe tbody tr th:only-of-type {\n        vertical-align: middle;\n    }\n\n    .dataframe tbody tr th {\n        vertical-align: top;\n    }\n\n    .dataframe thead th {\n        text-align: right;\n    }\n</style>\n<table border=\"1\" class=\"dataframe\">\n  <thead>\n    <tr style=\"text-align: right;\">\n      <th></th>\n      <th>filepath</th>\n      <th>dataset</th>\n      <th>collection</th>\n      <th>is_update</th>\n      <th>update_name</th>\n      <th>create_time</th>\n      <th>size</th>\n      <th>size_mb</th>\n      <th>sample_type</th>\n      <th>spectra_ms1</th>\n      <th>spectra_ms2</th>\n      <th>instrument_vendor</th>\n      <th>instrument_model</th>\n      <th>file_processed</th>\n      <th>file_usi</th>\n    </tr>\n  </thead>\n  <tbody>\n    <tr>\n      <th>0</th>\n      <td>MSV000073062/73062/mzml/peaklist1.mzml</td>\n      <td>MSV000073062</td>\n      <td>73062</td>\n      <td>0</td>\n      <td>NaN</td>\n      <td>2013-06-07 00:00:00</td>\n      <td>7166071</td>\n      <td>6</td>\n      <td>DEFAULT</td>\n      <td>0.0</td>\n      <td>0.0</td>\n      <td>NaN</td>\n      <td>NaN</td>\n      <td>FAILED</td>\n      <td>mzspec:MSV000073062:peaklist1</td>\n    </tr>\n    <tr>\n      <th>1</th>\n      <td>MSV000073062/73062/mzml/peaklist2.mzml</td>\n      <td>MSV000073062</td>\n      <td>73062</td>\n      <td>0</td>\n      <td>NaN</td>\n      <td>2013-06-07 00:00:00</td>\n      <td>8821747</td>\n      <td>8</td>\n      <td>DEFAULT</td>\n      <td>0.0</td>\n      <td>0.0</td>\n      <td>NaN</td>\n      <td>NaN</td>\n      <td>FAILED</td>\n      <td>mzspec:MSV000073062:peaklist2</td>\n    </tr>\n    <tr>\n      <th>2</th>\n      <td>MSV000073062/73062/mzml/peaklist3.mzml</td>\n      <td>MSV000073062</td>\n      <td>73062</td>\n      <td>0</td>\n      <td>NaN</td>\n      <td>2013-06-07 00:00:00</td>\n      <td>5751122</td>\n      <td>5</td>\n      <td>DEFAULT</td>\n      <td>0.0</td>\n      <td>0.0</td>\n      <td>NaN</td>\n      <td>NaN</td>\n      <td>FAILED</td>\n      <td>mzspec:MSV000073062:peaklist3</td>\n    </tr>\n    <tr>\n      <th>3</th>\n      <td>MSV000073062/73062/mzml/peaklist4.mzml</td>\n      <td>MSV000073062</td>\n      <td>73062</td>\n      <td>0</td>\n      <td>NaN</td>\n      <td>2013-06-07 00:00:00</td>\n      <td>10366660</td>\n      <td>9</td>\n      <td>DEFAULT</td>\n      <td>0.0</td>\n      <td>0.0</td>\n      <td>NaN</td>\n      <td>NaN</td>\n      <td>FAILED</td>\n      <td>mzspec:MSV000073062:peaklist4</td>\n    </tr>\n    <tr>\n      <th>4</th>\n      <td>MSV000073062/73062/mzml/peaklist5.mzml</td>\n      <td>MSV000073062</td>\n      <td>73062</td>\n      <td>0</td>\n      <td>NaN</td>\n      <td>2013-06-07 00:00:00</td>\n      <td>2216166</td>\n      <td>2</td>\n      <td>DEFAULT</td>\n      <td>0.0</td>\n      <td>0.0</td>\n      <td>NaN</td>\n      <td>NaN</td>\n      <td>FAILED</td>\n      <td>mzspec:MSV000073062:peaklist5</td>\n    </tr>\n    <tr>\n      <th>...</th>\n      <td>...</td>\n      <td>...</td>\n      <td>...</td>\n      <td>...</td>\n      <td>...</td>\n      <td>...</td>\n      <td>...</td>\n      <td>...</td>\n      <td>...</td>\n      <td>...</td>\n      <td>...</td>\n      <td>...</td>\n      <td>...</td>\n      <td>...</td>\n      <td>...</td>\n    </tr>\n    <tr>\n      <th>484281</th>\n      <td>MSV000091804/updates/2023-04-28_Bjosephc_21f27...</td>\n      <td>MSV000091804</td>\n      <td>peak</td>\n      <td>1</td>\n      <td>2023-04-28_Bjosephc_21f275f7</td>\n      <td>2023-04-26 03:17:00</td>\n      <td>160338738</td>\n      <td>152</td>\n      <td>DEFAULT</td>\n      <td>8275.0</td>\n      <td>97.0</td>\n      <td>Thermo Fisher Scientific</td>\n      <td>Q Exactive HF</td>\n      <td>DONE</td>\n      <td>mzspec:MSV000091804:2022081803</td>\n    </tr>\n    <tr>\n      <th>484282</th>\n      <td>MSV000091804/updates/2023-04-28_Bjosephc_21f27...</td>\n      <td>MSV000091804</td>\n      <td>peak</td>\n      <td>1</td>\n      <td>2023-04-28_Bjosephc_21f275f7</td>\n      <td>2023-04-26 03:16:00</td>\n      <td>152195548</td>\n      <td>145</td>\n      <td>DEFAULT</td>\n      <td>7066.0</td>\n      <td>33.0</td>\n      <td>Thermo Fisher Scientific</td>\n      <td>Q Exactive HF</td>\n      <td>DONE</td>\n      <td>mzspec:MSV000091804:2022081806</td>\n    </tr>\n    <tr>\n      <th>484283</th>\n      <td>MSV000091804/updates/2023-04-28_Bjosephc_262e3...</td>\n      <td>MSV000091804</td>\n      <td>peak</td>\n      <td>1</td>\n      <td>2023-04-28_Bjosephc_262e347f</td>\n      <td>2023-04-26 02:57:00</td>\n      <td>68710868</td>\n      <td>65</td>\n      <td>DEFAULT</td>\n      <td>3603.0</td>\n      <td>0.0</td>\n      <td>Thermo Fisher Scientific</td>\n      <td>Q Exactive HF</td>\n      <td>DONE</td>\n      <td>mzspec:MSV000091804:BJ2022111603</td>\n    </tr>\n    <tr>\n      <th>484284</th>\n      <td>MSV000091804/updates/2023-04-28_Bjosephc_262e3...</td>\n      <td>MSV000091804</td>\n      <td>peak</td>\n      <td>1</td>\n      <td>2023-04-28_Bjosephc_262e347f</td>\n      <td>2023-04-26 02:57:00</td>\n      <td>71670891</td>\n      <td>68</td>\n      <td>DEFAULT</td>\n      <td>3795.0</td>\n      <td>0.0</td>\n      <td>Thermo Fisher Scientific</td>\n      <td>Q Exactive HF</td>\n      <td>DONE</td>\n      <td>mzspec:MSV000091804:BJ2022111604</td>\n    </tr>\n    <tr>\n      <th>484285</th>\n      <td>MSV000091804/updates/2023-04-28_Bjosephc_262e3...</td>\n      <td>MSV000091804</td>\n      <td>peak</td>\n      <td>1</td>\n      <td>2023-04-28_Bjosephc_262e347f</td>\n      <td>2023-04-26 02:57:00</td>\n      <td>67641981</td>\n      <td>64</td>\n      <td>DEFAULT</td>\n      <td>3751.0</td>\n      <td>0.0</td>\n      <td>Thermo Fisher Scientific</td>\n      <td>Q Exactive HF</td>\n      <td>DONE</td>\n      <td>mzspec:MSV000091804:BJ2022111605</td>\n    </tr>\n  </tbody>\n</table>\n<p>1080125 rows × 15 columns</p>\n</div>"
     },
     "execution_count": 30,
     "metadata": {},
     "output_type": "execute_result"
    }
   ],
   "source": [
    "file_stats[\"file_usi\"] = [\n",
    "    usi_utils.create_simple_file_usi(path, dataset) for path, dataset in zip(file_stats[\"filepath\"],\n",
    "                                                                             file_stats[\"dataset\"])\n",
    "]\n",
    "file_stats"
   ],
   "metadata": {
    "collapsed": false,
    "pycharm": {
     "name": "#%%\n"
    }
   }
  },
  {
   "cell_type": "code",
   "execution_count": 31,
   "outputs": [],
   "source": [
    "file_stats = file_stats.sort_values(by=[\"spectra_ms2\"], ascending=[False]).drop_duplicates([\"file_usi\"])"
   ],
   "metadata": {
    "collapsed": false,
    "pycharm": {
     "name": "#%%\n"
    }
   }
  },
  {
   "cell_type": "code",
   "execution_count": 32,
   "outputs": [],
   "source": [
    "file_stats.to_csv(r\"..\\local_files\\all_gnps_files\\all_gnps_files.csv\", index=False)"
   ],
   "metadata": {
    "collapsed": false,
    "pycharm": {
     "name": "#%%\n"
    }
   }
  },
  {
   "cell_type": "code",
   "execution_count": 50,
   "outputs": [
    {
     "data": {
      "text/plain": "(679308, 16)"
     },
     "execution_count": 50,
     "metadata": {},
     "output_type": "execute_result"
    }
   ],
   "source": [
    "file_stats = pd.read_csv(\"../local_files/all_gnps_files/all_gnps_files.csv\", dtype=dtype)\n",
    "file_stats[\"has_stats\"] = True\n",
    "file_stats.shape"
   ],
   "metadata": {
    "collapsed": false,
    "pycharm": {
     "name": "#%%\n"
    }
   }
  },
  {
   "cell_type": "code",
   "execution_count": 9,
   "outputs": [],
   "source": [
    "# import requests\n",
    "# response = requests.get(\"https://gnps-datasetcache.ucsd.edu/datasette/database/filename\"\n",
    "#               \".csv?_stream=on&_sort=filepath&filepath__endswith=.mzxml&_size=max\")\n",
    "# response.raise_for_status()"
   ],
   "metadata": {
    "collapsed": false,
    "pycharm": {
     "name": "#%%\n"
    }
   }
  },
  {
   "cell_type": "code",
   "execution_count": 59,
   "outputs": [
    {
     "data": {
      "text/plain": "   spectra_ms1_sum  spectra_ms2_sum  spectra_ms1_mean  spectra_ms2_mean  \\\n0     2.259182e+09     6.782255e+09       3325.711448       9984.064711   \n1     2.062382e+06     8.665498e+06        585.072908       2458.297305   \n2     6.037546e+07     8.934239e+07       1001.483910       1481.975782   \n3     3.242240e+07     5.695630e+07       1746.896767       3068.766379   \n\n       size_mb  num_files  num_files_processed                  description  \\\n0  122272081.0     679308               376061  ALL_GNPS/MASSIVE_mzML_mzXML   \n1      40819.0       3579                    0                         food   \n2    2780541.0      60306                 9749                      microbe   \n3    1092098.0      19554                11183                        plant   \n\n   num_files_with_stats  files_with_stats_percent  \n0                   NaN                       NaN  \n1                3525.0                  0.984912  \n2               60286.0                  0.999668  \n3               18560.0                  0.949166  ",
      "text/html": "<div>\n<style scoped>\n    .dataframe tbody tr th:only-of-type {\n        vertical-align: middle;\n    }\n\n    .dataframe tbody tr th {\n        vertical-align: top;\n    }\n\n    .dataframe thead th {\n        text-align: right;\n    }\n</style>\n<table border=\"1\" class=\"dataframe\">\n  <thead>\n    <tr style=\"text-align: right;\">\n      <th></th>\n      <th>spectra_ms1_sum</th>\n      <th>spectra_ms2_sum</th>\n      <th>spectra_ms1_mean</th>\n      <th>spectra_ms2_mean</th>\n      <th>size_mb</th>\n      <th>num_files</th>\n      <th>num_files_processed</th>\n      <th>description</th>\n      <th>num_files_with_stats</th>\n      <th>files_with_stats_percent</th>\n    </tr>\n  </thead>\n  <tbody>\n    <tr>\n      <th>0</th>\n      <td>2.259182e+09</td>\n      <td>6.782255e+09</td>\n      <td>3325.711448</td>\n      <td>9984.064711</td>\n      <td>122272081.0</td>\n      <td>679308</td>\n      <td>376061</td>\n      <td>ALL_GNPS/MASSIVE_mzML_mzXML</td>\n      <td>NaN</td>\n      <td>NaN</td>\n    </tr>\n    <tr>\n      <th>1</th>\n      <td>2.062382e+06</td>\n      <td>8.665498e+06</td>\n      <td>585.072908</td>\n      <td>2458.297305</td>\n      <td>40819.0</td>\n      <td>3579</td>\n      <td>0</td>\n      <td>food</td>\n      <td>3525.0</td>\n      <td>0.984912</td>\n    </tr>\n    <tr>\n      <th>2</th>\n      <td>6.037546e+07</td>\n      <td>8.934239e+07</td>\n      <td>1001.483910</td>\n      <td>1481.975782</td>\n      <td>2780541.0</td>\n      <td>60306</td>\n      <td>9749</td>\n      <td>microbe</td>\n      <td>60286.0</td>\n      <td>0.999668</td>\n    </tr>\n    <tr>\n      <th>3</th>\n      <td>3.242240e+07</td>\n      <td>5.695630e+07</td>\n      <td>1746.896767</td>\n      <td>3068.766379</td>\n      <td>1092098.0</td>\n      <td>19554</td>\n      <td>11183</td>\n      <td>plant</td>\n      <td>18560.0</td>\n      <td>0.949166</td>\n    </tr>\n  </tbody>\n</table>\n</div>"
     },
     "execution_count": 59,
     "metadata": {},
     "output_type": "execute_result"
    }
   ],
   "source": [
    "from masst_utils import SPECIAL_MASSTS\n",
    "\n",
    "rows = []\n",
    "num_files = len(file_stats)\n",
    "rows.append(\n",
    "    {\n",
    "        \"spectra_ms1_sum\": file_stats[\"spectra_ms1\"].sum(),\n",
    "        \"spectra_ms2_sum\": file_stats[\"spectra_ms2\"].sum(),\n",
    "        \"spectra_ms1_mean\": file_stats[\"spectra_ms1\"].sum() / num_files,\n",
    "        \"spectra_ms2_mean\": file_stats[\"spectra_ms2\"].sum() / num_files,\n",
    "        \"size_mb\": file_stats[\"size_mb\"].sum(),\n",
    "        \"num_files\": len(file_stats),\n",
    "        \"num_files_processed\": len(file_stats[file_stats[\"file_processed\"] == \"DONE\"]),\n",
    "        \"description\": \"ALL_GNPS/MASSIVE_mzML_mzXML\"\n",
    "    }\n",
    ")\n",
    "\n",
    "dfs = []\n",
    "for masst in SPECIAL_MASSTS:\n",
    "    file = masst.metadata_file\n",
    "    df = pd.read_csv(file)\n",
    "    df[\"masst\"] = masst.prefix\n",
    "\n",
    "    df = df.merge(file_stats, on=\"file_usi\", how=\"left\")\n",
    "    num_files = len(df)\n",
    "    has_stats = len(df[df[\"has_stats\"] == True])\n",
    "    rows.append(\n",
    "        {\n",
    "            \"spectra_ms1_sum\": df[\"spectra_ms1\"].sum(),\n",
    "            \"spectra_ms2_sum\": df[\"spectra_ms2\"].sum(),\n",
    "            \"spectra_ms1_mean\": df[\"spectra_ms1\"].sum() / has_stats,\n",
    "            \"spectra_ms2_mean\": df[\"spectra_ms2\"].sum() / has_stats,\n",
    "            \"size_mb\": df[\"size_mb\"].sum(),\n",
    "            \"num_files\": num_files,\n",
    "            \"num_files_processed\": len(df[df[\"file_processed\"] == \"DONE\"]),\n",
    "            \"num_files_with_stats\": has_stats,\n",
    "            \"files_with_stats_percent\": has_stats / num_files,\n",
    "            \"description\": masst.prefix\n",
    "        }\n",
    "    )\n",
    "    dfs.append(df)\n",
    "\n",
    "sum_df = pd.DataFrame(rows)\n",
    "sum_df"
   ],
   "metadata": {
    "collapsed": false,
    "pycharm": {
     "name": "#%%\n"
    }
   }
  },
  {
   "cell_type": "code",
   "execution_count": 60,
   "outputs": [],
   "source": [
    "all_masst = pd.concat(dfs)\n",
    "all_masst.to_csv(\"../local_files/all_gnps_files/file_summary_combined.csv\", index=False)\n"
   ],
   "metadata": {
    "collapsed": false,
    "pycharm": {
     "name": "#%%\n"
    }
   }
  },
  {
   "cell_type": "code",
   "execution_count": 61,
   "outputs": [
    {
     "data": {
      "text/plain": "            MassIVE                                  Filename      node_id  \\\n2      MSV000084900      15NAVY01_v1_brk_1_GA4_01_39548.mzXML       peanut   \n3      MSV000084900      15NAVY01_v1_brk_2_GB4_01_39546.mzXML  grain/grass   \n4      MSV000084900      15NAVY01_v1_brk_3_GC4_01_39547.mzXML  grain/grass   \n5      MSV000084900      15NAVY01_v1_lun_1_GA5_01_39630.mzXML      complex   \n6      MSV000084900      15NAVY01_v1_lun_2_GB5_01_39627.mzXML        fruit   \n...             ...                                       ...          ...   \n19549  MSV000091100  MSV000091100/DN-187_positive_40eV+.mzXML          NaN   \n19550  MSV000091100  MSV000091100/DN-191_positive_40eV+.mzXML          NaN   \n19551  MSV000091100  MSV000091100/DN-193_positive_40eV+.mzXML          NaN   \n19552  MSV000091100  MSV000091100/DN-194_positive_40eV+.mzXML          NaN   \n19553  MSV000091100  MSV000091100/DN-195_positive_40eV+.mzXML          NaN   \n\n                                                file_usi  masst  \\\n2      mzspec:MSV000084900:15NAVY01_v1_brk_1_GA4_01_3...   food   \n3      mzspec:MSV000084900:15NAVY01_v1_brk_2_GB4_01_3...   food   \n4      mzspec:MSV000084900:15NAVY01_v1_brk_3_GC4_01_3...   food   \n5      mzspec:MSV000084900:15NAVY01_v1_lun_1_GA5_01_3...   food   \n6      mzspec:MSV000084900:15NAVY01_v1_lun_2_GB5_01_3...   food   \n...                                                  ...    ...   \n19549          mzspec:MSV000091100:DN-187_positive_40eV+  plant   \n19550          mzspec:MSV000091100:DN-191_positive_40eV+  plant   \n19551          mzspec:MSV000091100:DN-193_positive_40eV+  plant   \n19552          mzspec:MSV000091100:DN-194_positive_40eV+  plant   \n19553          mzspec:MSV000091100:DN-195_positive_40eV+  plant   \n\n                                                filepath       dataset  \\\n2      MSV000084900/peak/Global_Foodomics_composite_d...  MSV000084900   \n3      MSV000084900/ccms_peak/Global_Foodomics_compos...  MSV000084900   \n4      MSV000084900/ccms_peak/Global_Foodomics_compos...  MSV000084900   \n5      MSV000084900/peak/Global_Foodomics_composite_d...  MSV000084900   \n6      MSV000084900/ccms_peak/Global_Foodomics_compos...  MSV000084900   \n...                                                  ...           ...   \n19549  MSV000091100/peak/pos_40/DN-187_positive_40eV+...  MSV000091100   \n19550  MSV000091100/peak/pos_40/DN-191_positive_40eV+...  MSV000091100   \n19551  MSV000091100/peak/pos_40/DN-193_positive_40eV+...  MSV000091100   \n19552  MSV000091100/peak/pos_40/DN-194_positive_40eV+...  MSV000091100   \n19553  MSV000091100/peak/pos_40/DN-195_positive_40eV+...  MSV000091100   \n\n      collection  is_update update_name  ... file_processed  has_stats  \\\n2           peak        0.0         NaN  ...             No       True   \n3      ccms_peak        0.0         NaN  ...             No       True   \n4      ccms_peak        0.0         NaN  ...             No       True   \n5           peak        0.0         NaN  ...             No       True   \n6      ccms_peak        0.0         NaN  ...             No       True   \n...          ...        ...         ...  ...            ...        ...   \n19549       peak        0.0         NaN  ...           DONE       True   \n19550       peak        0.0         NaN  ...           DONE       True   \n19551       peak        0.0         NaN  ...           DONE       True   \n19552       peak        0.0         NaN  ...           DONE       True   \n19553       peak        0.0         NaN  ...           DONE       True   \n\n                                                Filepath      Taxaname_file  \\\n2                                                    NaN                NaN   \n3                                                    NaN                NaN   \n4                                                    NaN                NaN   \n5                                                    NaN                NaN   \n6                                                    NaN                NaN   \n...                                                  ...                ...   \n19549  MSV000091100/peak/pos_40/DN-187_positive_40eV+...  Pogostemon cablin   \n19550  MSV000091100/peak/pos_40/DN-191_positive_40eV+...  Sinomenium acutum   \n19551  MSV000091100/peak/pos_40/DN-193_positive_40eV+...     Ephedra sinica   \n19552  MSV000091100/peak/pos_40/DN-194_positive_40eV+...     Prunus persica   \n19553  MSV000091100/peak/pos_40/DN-195_positive_40eV+...    Ziziphus jujuba   \n\n       Taxaname_alternative  Taxa_NCBI Taxa_Assigment ReDU_Availability Blank  \\\n2                       NaN        NaN            NaN               NaN   NaN   \n3                       NaN        NaN            NaN               NaN   NaN   \n4                       NaN        NaN            NaN               NaN   NaN   \n5                       NaN        NaN            NaN               NaN   NaN   \n6                       NaN        NaN            NaN               NaN   NaN   \n...                     ...        ...            ...               ...   ...   \n19549                   NaN      28511            NaN                No    No   \n19550                   NaN     152363            NaN                No    No   \n19551                   NaN      33152            NaN                No    No   \n19552                   NaN       3760            NaN                No    No   \n19553                   NaN     326968            NaN                No    No   \n\n        QC  \n2      NaN  \n3      NaN  \n4      NaN  \n5      NaN  \n6      NaN  \n...    ...  \n19549   No  \n19550   No  \n19551   No  \n19552   No  \n19553   No  \n\n[82371 rows x 28 columns]",
      "text/html": "<div>\n<style scoped>\n    .dataframe tbody tr th:only-of-type {\n        vertical-align: middle;\n    }\n\n    .dataframe tbody tr th {\n        vertical-align: top;\n    }\n\n    .dataframe thead th {\n        text-align: right;\n    }\n</style>\n<table border=\"1\" class=\"dataframe\">\n  <thead>\n    <tr style=\"text-align: right;\">\n      <th></th>\n      <th>MassIVE</th>\n      <th>Filename</th>\n      <th>node_id</th>\n      <th>file_usi</th>\n      <th>masst</th>\n      <th>filepath</th>\n      <th>dataset</th>\n      <th>collection</th>\n      <th>is_update</th>\n      <th>update_name</th>\n      <th>...</th>\n      <th>file_processed</th>\n      <th>has_stats</th>\n      <th>Filepath</th>\n      <th>Taxaname_file</th>\n      <th>Taxaname_alternative</th>\n      <th>Taxa_NCBI</th>\n      <th>Taxa_Assigment</th>\n      <th>ReDU_Availability</th>\n      <th>Blank</th>\n      <th>QC</th>\n    </tr>\n  </thead>\n  <tbody>\n    <tr>\n      <th>2</th>\n      <td>MSV000084900</td>\n      <td>15NAVY01_v1_brk_1_GA4_01_39548.mzXML</td>\n      <td>peanut</td>\n      <td>mzspec:MSV000084900:15NAVY01_v1_brk_1_GA4_01_3...</td>\n      <td>food</td>\n      <td>MSV000084900/peak/Global_Foodomics_composite_d...</td>\n      <td>MSV000084900</td>\n      <td>peak</td>\n      <td>0.0</td>\n      <td>NaN</td>\n      <td>...</td>\n      <td>No</td>\n      <td>True</td>\n      <td>NaN</td>\n      <td>NaN</td>\n      <td>NaN</td>\n      <td>NaN</td>\n      <td>NaN</td>\n      <td>NaN</td>\n      <td>NaN</td>\n      <td>NaN</td>\n    </tr>\n    <tr>\n      <th>3</th>\n      <td>MSV000084900</td>\n      <td>15NAVY01_v1_brk_2_GB4_01_39546.mzXML</td>\n      <td>grain/grass</td>\n      <td>mzspec:MSV000084900:15NAVY01_v1_brk_2_GB4_01_3...</td>\n      <td>food</td>\n      <td>MSV000084900/ccms_peak/Global_Foodomics_compos...</td>\n      <td>MSV000084900</td>\n      <td>ccms_peak</td>\n      <td>0.0</td>\n      <td>NaN</td>\n      <td>...</td>\n      <td>No</td>\n      <td>True</td>\n      <td>NaN</td>\n      <td>NaN</td>\n      <td>NaN</td>\n      <td>NaN</td>\n      <td>NaN</td>\n      <td>NaN</td>\n      <td>NaN</td>\n      <td>NaN</td>\n    </tr>\n    <tr>\n      <th>4</th>\n      <td>MSV000084900</td>\n      <td>15NAVY01_v1_brk_3_GC4_01_39547.mzXML</td>\n      <td>grain/grass</td>\n      <td>mzspec:MSV000084900:15NAVY01_v1_brk_3_GC4_01_3...</td>\n      <td>food</td>\n      <td>MSV000084900/ccms_peak/Global_Foodomics_compos...</td>\n      <td>MSV000084900</td>\n      <td>ccms_peak</td>\n      <td>0.0</td>\n      <td>NaN</td>\n      <td>...</td>\n      <td>No</td>\n      <td>True</td>\n      <td>NaN</td>\n      <td>NaN</td>\n      <td>NaN</td>\n      <td>NaN</td>\n      <td>NaN</td>\n      <td>NaN</td>\n      <td>NaN</td>\n      <td>NaN</td>\n    </tr>\n    <tr>\n      <th>5</th>\n      <td>MSV000084900</td>\n      <td>15NAVY01_v1_lun_1_GA5_01_39630.mzXML</td>\n      <td>complex</td>\n      <td>mzspec:MSV000084900:15NAVY01_v1_lun_1_GA5_01_3...</td>\n      <td>food</td>\n      <td>MSV000084900/peak/Global_Foodomics_composite_d...</td>\n      <td>MSV000084900</td>\n      <td>peak</td>\n      <td>0.0</td>\n      <td>NaN</td>\n      <td>...</td>\n      <td>No</td>\n      <td>True</td>\n      <td>NaN</td>\n      <td>NaN</td>\n      <td>NaN</td>\n      <td>NaN</td>\n      <td>NaN</td>\n      <td>NaN</td>\n      <td>NaN</td>\n      <td>NaN</td>\n    </tr>\n    <tr>\n      <th>6</th>\n      <td>MSV000084900</td>\n      <td>15NAVY01_v1_lun_2_GB5_01_39627.mzXML</td>\n      <td>fruit</td>\n      <td>mzspec:MSV000084900:15NAVY01_v1_lun_2_GB5_01_3...</td>\n      <td>food</td>\n      <td>MSV000084900/ccms_peak/Global_Foodomics_compos...</td>\n      <td>MSV000084900</td>\n      <td>ccms_peak</td>\n      <td>0.0</td>\n      <td>NaN</td>\n      <td>...</td>\n      <td>No</td>\n      <td>True</td>\n      <td>NaN</td>\n      <td>NaN</td>\n      <td>NaN</td>\n      <td>NaN</td>\n      <td>NaN</td>\n      <td>NaN</td>\n      <td>NaN</td>\n      <td>NaN</td>\n    </tr>\n    <tr>\n      <th>...</th>\n      <td>...</td>\n      <td>...</td>\n      <td>...</td>\n      <td>...</td>\n      <td>...</td>\n      <td>...</td>\n      <td>...</td>\n      <td>...</td>\n      <td>...</td>\n      <td>...</td>\n      <td>...</td>\n      <td>...</td>\n      <td>...</td>\n      <td>...</td>\n      <td>...</td>\n      <td>...</td>\n      <td>...</td>\n      <td>...</td>\n      <td>...</td>\n      <td>...</td>\n      <td>...</td>\n    </tr>\n    <tr>\n      <th>19549</th>\n      <td>MSV000091100</td>\n      <td>MSV000091100/DN-187_positive_40eV+.mzXML</td>\n      <td>NaN</td>\n      <td>mzspec:MSV000091100:DN-187_positive_40eV+</td>\n      <td>plant</td>\n      <td>MSV000091100/peak/pos_40/DN-187_positive_40eV+...</td>\n      <td>MSV000091100</td>\n      <td>peak</td>\n      <td>0.0</td>\n      <td>NaN</td>\n      <td>...</td>\n      <td>DONE</td>\n      <td>True</td>\n      <td>MSV000091100/peak/pos_40/DN-187_positive_40eV+...</td>\n      <td>Pogostemon cablin</td>\n      <td>NaN</td>\n      <td>28511</td>\n      <td>NaN</td>\n      <td>No</td>\n      <td>No</td>\n      <td>No</td>\n    </tr>\n    <tr>\n      <th>19550</th>\n      <td>MSV000091100</td>\n      <td>MSV000091100/DN-191_positive_40eV+.mzXML</td>\n      <td>NaN</td>\n      <td>mzspec:MSV000091100:DN-191_positive_40eV+</td>\n      <td>plant</td>\n      <td>MSV000091100/peak/pos_40/DN-191_positive_40eV+...</td>\n      <td>MSV000091100</td>\n      <td>peak</td>\n      <td>0.0</td>\n      <td>NaN</td>\n      <td>...</td>\n      <td>DONE</td>\n      <td>True</td>\n      <td>MSV000091100/peak/pos_40/DN-191_positive_40eV+...</td>\n      <td>Sinomenium acutum</td>\n      <td>NaN</td>\n      <td>152363</td>\n      <td>NaN</td>\n      <td>No</td>\n      <td>No</td>\n      <td>No</td>\n    </tr>\n    <tr>\n      <th>19551</th>\n      <td>MSV000091100</td>\n      <td>MSV000091100/DN-193_positive_40eV+.mzXML</td>\n      <td>NaN</td>\n      <td>mzspec:MSV000091100:DN-193_positive_40eV+</td>\n      <td>plant</td>\n      <td>MSV000091100/peak/pos_40/DN-193_positive_40eV+...</td>\n      <td>MSV000091100</td>\n      <td>peak</td>\n      <td>0.0</td>\n      <td>NaN</td>\n      <td>...</td>\n      <td>DONE</td>\n      <td>True</td>\n      <td>MSV000091100/peak/pos_40/DN-193_positive_40eV+...</td>\n      <td>Ephedra sinica</td>\n      <td>NaN</td>\n      <td>33152</td>\n      <td>NaN</td>\n      <td>No</td>\n      <td>No</td>\n      <td>No</td>\n    </tr>\n    <tr>\n      <th>19552</th>\n      <td>MSV000091100</td>\n      <td>MSV000091100/DN-194_positive_40eV+.mzXML</td>\n      <td>NaN</td>\n      <td>mzspec:MSV000091100:DN-194_positive_40eV+</td>\n      <td>plant</td>\n      <td>MSV000091100/peak/pos_40/DN-194_positive_40eV+...</td>\n      <td>MSV000091100</td>\n      <td>peak</td>\n      <td>0.0</td>\n      <td>NaN</td>\n      <td>...</td>\n      <td>DONE</td>\n      <td>True</td>\n      <td>MSV000091100/peak/pos_40/DN-194_positive_40eV+...</td>\n      <td>Prunus persica</td>\n      <td>NaN</td>\n      <td>3760</td>\n      <td>NaN</td>\n      <td>No</td>\n      <td>No</td>\n      <td>No</td>\n    </tr>\n    <tr>\n      <th>19553</th>\n      <td>MSV000091100</td>\n      <td>MSV000091100/DN-195_positive_40eV+.mzXML</td>\n      <td>NaN</td>\n      <td>mzspec:MSV000091100:DN-195_positive_40eV+</td>\n      <td>plant</td>\n      <td>MSV000091100/peak/pos_40/DN-195_positive_40eV+...</td>\n      <td>MSV000091100</td>\n      <td>peak</td>\n      <td>0.0</td>\n      <td>NaN</td>\n      <td>...</td>\n      <td>DONE</td>\n      <td>True</td>\n      <td>MSV000091100/peak/pos_40/DN-195_positive_40eV+...</td>\n      <td>Ziziphus jujuba</td>\n      <td>NaN</td>\n      <td>326968</td>\n      <td>NaN</td>\n      <td>No</td>\n      <td>No</td>\n      <td>No</td>\n    </tr>\n  </tbody>\n</table>\n<p>82371 rows × 28 columns</p>\n</div>"
     },
     "execution_count": 61,
     "metadata": {},
     "output_type": "execute_result"
    }
   ],
   "source": [
    "all_masst[all_masst[\"has_stats\"]==True]"
   ],
   "metadata": {
    "collapsed": false,
    "pycharm": {
     "name": "#%%\n"
    }
   }
  },
  {
   "cell_type": "code",
   "execution_count": 61,
   "outputs": [],
   "source": [],
   "metadata": {
    "collapsed": false,
    "pycharm": {
     "name": "#%%\n"
    }
   }
  },
  {
   "cell_type": "code",
   "execution_count": 62,
   "outputs": [],
   "source": [
    "sum_df.to_csv(\"../local_files/all_gnps_files/file_summary.csv\", index=False)"
   ],
   "metadata": {
    "collapsed": false,
    "pycharm": {
     "name": "#%%\n"
    }
   }
  },
  {
   "cell_type": "code",
   "execution_count": 63,
   "outputs": [
    {
     "data": {
      "text/plain": "  file_processed  filepath  dataset  collection  is_update  update_name  \\\n0           DONE    376061   376061      376061     376061         8490   \n1         FAILED     66903    66903       66903      66903          642   \n2             No    236344   236344      236344     236344         8332   \n\n   create_time    size  size_mb  sample_type  spectra_ms1  spectra_ms2  \\\n0       376061  376061   376061       376061       376061       376061   \n1        66903   66903    66903        66903        66903        66903   \n2       236344  236344   236344       236344       235791       235796   \n\n   instrument_vendor  instrument_model  file_usi  has_stats  \n0             376061            376061    376061     376061  \n1                 42                42     66903      66903  \n2             233068            233068    236344     236344  ",
      "text/html": "<div>\n<style scoped>\n    .dataframe tbody tr th:only-of-type {\n        vertical-align: middle;\n    }\n\n    .dataframe tbody tr th {\n        vertical-align: top;\n    }\n\n    .dataframe thead th {\n        text-align: right;\n    }\n</style>\n<table border=\"1\" class=\"dataframe\">\n  <thead>\n    <tr style=\"text-align: right;\">\n      <th></th>\n      <th>file_processed</th>\n      <th>filepath</th>\n      <th>dataset</th>\n      <th>collection</th>\n      <th>is_update</th>\n      <th>update_name</th>\n      <th>create_time</th>\n      <th>size</th>\n      <th>size_mb</th>\n      <th>sample_type</th>\n      <th>spectra_ms1</th>\n      <th>spectra_ms2</th>\n      <th>instrument_vendor</th>\n      <th>instrument_model</th>\n      <th>file_usi</th>\n      <th>has_stats</th>\n    </tr>\n  </thead>\n  <tbody>\n    <tr>\n      <th>0</th>\n      <td>DONE</td>\n      <td>376061</td>\n      <td>376061</td>\n      <td>376061</td>\n      <td>376061</td>\n      <td>8490</td>\n      <td>376061</td>\n      <td>376061</td>\n      <td>376061</td>\n      <td>376061</td>\n      <td>376061</td>\n      <td>376061</td>\n      <td>376061</td>\n      <td>376061</td>\n      <td>376061</td>\n      <td>376061</td>\n    </tr>\n    <tr>\n      <th>1</th>\n      <td>FAILED</td>\n      <td>66903</td>\n      <td>66903</td>\n      <td>66903</td>\n      <td>66903</td>\n      <td>642</td>\n      <td>66903</td>\n      <td>66903</td>\n      <td>66903</td>\n      <td>66903</td>\n      <td>66903</td>\n      <td>66903</td>\n      <td>42</td>\n      <td>42</td>\n      <td>66903</td>\n      <td>66903</td>\n    </tr>\n    <tr>\n      <th>2</th>\n      <td>No</td>\n      <td>236344</td>\n      <td>236344</td>\n      <td>236344</td>\n      <td>236344</td>\n      <td>8332</td>\n      <td>236344</td>\n      <td>236344</td>\n      <td>236344</td>\n      <td>236344</td>\n      <td>235791</td>\n      <td>235796</td>\n      <td>233068</td>\n      <td>233068</td>\n      <td>236344</td>\n      <td>236344</td>\n    </tr>\n  </tbody>\n</table>\n</div>"
     },
     "execution_count": 63,
     "metadata": {},
     "output_type": "execute_result"
    }
   ],
   "source": [
    "file_stats.groupby(\"file_processed\").count().reset_index()"
   ],
   "metadata": {
    "collapsed": false,
    "pycharm": {
     "name": "#%%\n"
    }
   }
  },
  {
   "cell_type": "code",
   "execution_count": null,
   "outputs": [],
   "source": [],
   "metadata": {
    "collapsed": false,
    "pycharm": {
     "name": "#%%\n"
    }
   }
  }
 ],
 "metadata": {
  "kernelspec": {
   "display_name": "Python 3",
   "language": "python",
   "name": "python3"
  },
  "language_info": {
   "codemirror_mode": {
    "name": "ipython",
    "version": 2
   },
   "file_extension": ".py",
   "mimetype": "text/x-python",
   "name": "python",
   "nbconvert_exporter": "python",
   "pygments_lexer": "ipython2",
   "version": "2.7.6"
  }
 },
 "nbformat": 4,
 "nbformat_minor": 0
}