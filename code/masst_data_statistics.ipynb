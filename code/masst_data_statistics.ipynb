{
 "cells": [
  {
   "cell_type": "code",
   "execution_count": 19,
   "outputs": [],
   "source": [
    "import pandas as pd\n",
    "import usi_utils\n",
    "from io import StringIO\n",
    "import requests"
   ],
   "metadata": {
    "collapsed": false,
    "ExecuteTime": {
     "end_time": "2024-03-08T18:25:30.488987500Z",
     "start_time": "2024-03-08T18:25:30.477974900Z"
    }
   }
  },
  {
   "cell_type": "code",
   "execution_count": 20,
   "outputs": [],
   "source": [
    "dtype = {\n",
    "    \"filepath\": object,\n",
    "    \"dataset\": object,\n",
    "    \"collection\": object,\n",
    "    \"is_update\": \"int64\",\n",
    "    \"update_name\": object,\n",
    "    \"create_time\": object,\n",
    "    \"size\": \"int64\",\n",
    "    \"size_mb\": \"int64\",\n",
    "    \"sample_type\": object,\n",
    "    \"spectra_ms1\": \"float64\",\n",
    "    \"spectra_ms2\": \"float64\",\n",
    "    \"instrument_vendor\": object,\n",
    "    \"instrument_model\": object,\n",
    "    \"file_processed\": object,\n",
    "    \"file_usi\": object\n",
    "}"
   ],
   "metadata": {
    "collapsed": false,
    "ExecuteTime": {
     "end_time": "2024-03-08T18:25:31.120758600Z",
     "start_time": "2024-03-08T18:25:31.109750200Z"
    }
   }
  },
  {
   "cell_type": "code",
   "execution_count": 21,
   "outputs": [],
   "source": [
    "def download_dataset_stats(file_format):\n",
    "    response = requests.get(\"https://gnps-datasetcache.ucsd.edu/datasette/database/filename\"\n",
    "                  f\".csv?_stream=on&_sort=filepath&filepath__endswith=.{file_format}&_size=max\")\n",
    "    response.raise_for_status()\n",
    "    \n",
    "    all_files = pd.read_csv(StringIO(response.text), dtype=dtype)\n",
    "    all_files.to_parquet(f\"../local_files/all_gnps_files/all_{file_format}_auto.parquet\")\n",
    "    return all_files\n",
    "    "
   ],
   "metadata": {
    "collapsed": false,
    "ExecuteTime": {
     "end_time": "2024-03-08T18:25:31.648237Z",
     "start_time": "2024-03-08T18:25:31.630239900Z"
    }
   }
  },
  {
   "cell_type": "code",
   "execution_count": 22,
   "outputs": [],
   "source": [
    "# the latest automatically downloaded files\n",
    "ms_formats = [\"mzml\", \"mzxml\"]\n",
    "\n",
    "files_dfs = [] \n",
    "\n",
    "for fformat in ms_formats:\n",
    "    auto_download = []\n",
    "    try:\n",
    "        auto_download = download_dataset_stats(fformat)\n",
    "    except:\n",
    "        pass\n",
    "    if len(auto_download) == 0:  # load latest downloaded version if failed\n",
    "        print(f\"Trying to load latest download {fformat}\")\n",
    "        auto_download = pd.read_parquet(f\"../local_files/all_gnps_files/all_{fformat}_auto.parquet\")\n",
    "    if len(auto_download) == 0:  # load backup old version on fail\n",
    "        print(f\"Trying to load old recovery file {fformat}\")\n",
    "        auto_download = pd.read_csv(f\"../local_files/all_gnps_files/all_{fformat}.txt\", dtype=dtype)\n",
    "    if len(auto_download) > 0:\n",
    "        files_dfs.append(auto_download)\n",
    "        \n",
    "file_stats = pd.concat(files_dfs)"
   ],
   "metadata": {
    "collapsed": false,
    "ExecuteTime": {
     "end_time": "2024-03-08T18:27:29.335641500Z",
     "start_time": "2024-03-08T18:25:32.236935800Z"
    }
   }
  },
  {
   "cell_type": "code",
   "execution_count": 25,
   "outputs": [
    {
     "data": {
      "text/plain": "                                                 filepath       dataset  \\\n0                  MSV000073062/73062/mzml/peaklist1.mzml  MSV000073062   \n1                  MSV000073062/73062/mzml/peaklist2.mzml  MSV000073062   \n2                  MSV000073062/73062/mzml/peaklist3.mzml  MSV000073062   \n3                  MSV000073062/73062/mzml/peaklist4.mzml  MSV000073062   \n4                  MSV000073062/73062/mzml/peaklist5.mzml  MSV000073062   \n...                                                   ...           ...   \n484281  MSV000091804/updates/2023-04-28_Bjosephc_21f27...  MSV000091804   \n484282  MSV000091804/updates/2023-04-28_Bjosephc_21f27...  MSV000091804   \n484283  MSV000091804/updates/2023-04-28_Bjosephc_262e3...  MSV000091804   \n484284  MSV000091804/updates/2023-04-28_Bjosephc_262e3...  MSV000091804   \n484285  MSV000091804/updates/2023-04-28_Bjosephc_262e3...  MSV000091804   \n\n       collection  is_update                   update_name  \\\n0           73062          0                           NaN   \n1           73062          0                           NaN   \n2           73062          0                           NaN   \n3           73062          0                           NaN   \n4           73062          0                           NaN   \n...           ...        ...                           ...   \n484281       peak          1  2023-04-28_Bjosephc_21f275f7   \n484282       peak          1  2023-04-28_Bjosephc_21f275f7   \n484283       peak          1  2023-04-28_Bjosephc_262e347f   \n484284       peak          1  2023-04-28_Bjosephc_262e347f   \n484285       peak          1  2023-04-28_Bjosephc_262e347f   \n\n                create_time       size  size_mb sample_type  spectra_ms1  \\\n0       2013-06-07 00:00:00    7166071        6     DEFAULT          0.0   \n1       2013-06-07 00:00:00    8821747        8     DEFAULT          0.0   \n2       2013-06-07 00:00:00    5751122        5     DEFAULT          0.0   \n3       2013-06-07 00:00:00   10366660        9     DEFAULT          0.0   \n4       2013-06-07 00:00:00    2216166        2     DEFAULT          0.0   \n...                     ...        ...      ...         ...          ...   \n484281  2023-04-26 03:17:00  160338738      152     DEFAULT       8275.0   \n484282  2023-04-26 03:16:00  152195548      145     DEFAULT       7066.0   \n484283  2023-04-26 02:57:00   68710868       65     DEFAULT       3603.0   \n484284  2023-04-26 02:57:00   71670891       68     DEFAULT       3795.0   \n484285  2023-04-26 02:57:00   67641981       64     DEFAULT       3751.0   \n\n        spectra_ms2         instrument_vendor instrument_model file_processed  \\\n0               0.0                       NaN              NaN         FAILED   \n1               0.0                       NaN              NaN         FAILED   \n2               0.0                       NaN              NaN         FAILED   \n3               0.0                       NaN              NaN         FAILED   \n4               0.0                       NaN              NaN         FAILED   \n...             ...                       ...              ...            ...   \n484281         97.0  Thermo Fisher Scientific    Q Exactive HF           DONE   \n484282         33.0  Thermo Fisher Scientific    Q Exactive HF           DONE   \n484283          0.0  Thermo Fisher Scientific    Q Exactive HF           DONE   \n484284          0.0  Thermo Fisher Scientific    Q Exactive HF           DONE   \n484285          0.0  Thermo Fisher Scientific    Q Exactive HF           DONE   \n\n                                file_usi  \n0          mzspec:MSV000073062:peaklist1  \n1          mzspec:MSV000073062:peaklist2  \n2          mzspec:MSV000073062:peaklist3  \n3          mzspec:MSV000073062:peaklist4  \n4          mzspec:MSV000073062:peaklist5  \n...                                  ...  \n484281    mzspec:MSV000091804:2022081803  \n484282    mzspec:MSV000091804:2022081806  \n484283  mzspec:MSV000091804:BJ2022111603  \n484284  mzspec:MSV000091804:BJ2022111604  \n484285  mzspec:MSV000091804:BJ2022111605  \n\n[1080125 rows x 15 columns]",
      "text/html": "<div>\n<style scoped>\n    .dataframe tbody tr th:only-of-type {\n        vertical-align: middle;\n    }\n\n    .dataframe tbody tr th {\n        vertical-align: top;\n    }\n\n    .dataframe thead th {\n        text-align: right;\n    }\n</style>\n<table border=\"1\" class=\"dataframe\">\n  <thead>\n    <tr style=\"text-align: right;\">\n      <th></th>\n      <th>filepath</th>\n      <th>dataset</th>\n      <th>collection</th>\n      <th>is_update</th>\n      <th>update_name</th>\n      <th>create_time</th>\n      <th>size</th>\n      <th>size_mb</th>\n      <th>sample_type</th>\n      <th>spectra_ms1</th>\n      <th>spectra_ms2</th>\n      <th>instrument_vendor</th>\n      <th>instrument_model</th>\n      <th>file_processed</th>\n      <th>file_usi</th>\n    </tr>\n  </thead>\n  <tbody>\n    <tr>\n      <th>0</th>\n      <td>MSV000073062/73062/mzml/peaklist1.mzml</td>\n      <td>MSV000073062</td>\n      <td>73062</td>\n      <td>0</td>\n      <td>NaN</td>\n      <td>2013-06-07 00:00:00</td>\n      <td>7166071</td>\n      <td>6</td>\n      <td>DEFAULT</td>\n      <td>0.0</td>\n      <td>0.0</td>\n      <td>NaN</td>\n      <td>NaN</td>\n      <td>FAILED</td>\n      <td>mzspec:MSV000073062:peaklist1</td>\n    </tr>\n    <tr>\n      <th>1</th>\n      <td>MSV000073062/73062/mzml/peaklist2.mzml</td>\n      <td>MSV000073062</td>\n      <td>73062</td>\n      <td>0</td>\n      <td>NaN</td>\n      <td>2013-06-07 00:00:00</td>\n      <td>8821747</td>\n      <td>8</td>\n      <td>DEFAULT</td>\n      <td>0.0</td>\n      <td>0.0</td>\n      <td>NaN</td>\n      <td>NaN</td>\n      <td>FAILED</td>\n      <td>mzspec:MSV000073062:peaklist2</td>\n    </tr>\n    <tr>\n      <th>2</th>\n      <td>MSV000073062/73062/mzml/peaklist3.mzml</td>\n      <td>MSV000073062</td>\n      <td>73062</td>\n      <td>0</td>\n      <td>NaN</td>\n      <td>2013-06-07 00:00:00</td>\n      <td>5751122</td>\n      <td>5</td>\n      <td>DEFAULT</td>\n      <td>0.0</td>\n      <td>0.0</td>\n      <td>NaN</td>\n      <td>NaN</td>\n      <td>FAILED</td>\n      <td>mzspec:MSV000073062:peaklist3</td>\n    </tr>\n    <tr>\n      <th>3</th>\n      <td>MSV000073062/73062/mzml/peaklist4.mzml</td>\n      <td>MSV000073062</td>\n      <td>73062</td>\n      <td>0</td>\n      <td>NaN</td>\n      <td>2013-06-07 00:00:00</td>\n      <td>10366660</td>\n      <td>9</td>\n      <td>DEFAULT</td>\n      <td>0.0</td>\n      <td>0.0</td>\n      <td>NaN</td>\n      <td>NaN</td>\n      <td>FAILED</td>\n      <td>mzspec:MSV000073062:peaklist4</td>\n    </tr>\n    <tr>\n      <th>4</th>\n      <td>MSV000073062/73062/mzml/peaklist5.mzml</td>\n      <td>MSV000073062</td>\n      <td>73062</td>\n      <td>0</td>\n      <td>NaN</td>\n      <td>2013-06-07 00:00:00</td>\n      <td>2216166</td>\n      <td>2</td>\n      <td>DEFAULT</td>\n      <td>0.0</td>\n      <td>0.0</td>\n      <td>NaN</td>\n      <td>NaN</td>\n      <td>FAILED</td>\n      <td>mzspec:MSV000073062:peaklist5</td>\n    </tr>\n    <tr>\n      <th>...</th>\n      <td>...</td>\n      <td>...</td>\n      <td>...</td>\n      <td>...</td>\n      <td>...</td>\n      <td>...</td>\n      <td>...</td>\n      <td>...</td>\n      <td>...</td>\n      <td>...</td>\n      <td>...</td>\n      <td>...</td>\n      <td>...</td>\n      <td>...</td>\n      <td>...</td>\n    </tr>\n    <tr>\n      <th>484281</th>\n      <td>MSV000091804/updates/2023-04-28_Bjosephc_21f27...</td>\n      <td>MSV000091804</td>\n      <td>peak</td>\n      <td>1</td>\n      <td>2023-04-28_Bjosephc_21f275f7</td>\n      <td>2023-04-26 03:17:00</td>\n      <td>160338738</td>\n      <td>152</td>\n      <td>DEFAULT</td>\n      <td>8275.0</td>\n      <td>97.0</td>\n      <td>Thermo Fisher Scientific</td>\n      <td>Q Exactive HF</td>\n      <td>DONE</td>\n      <td>mzspec:MSV000091804:2022081803</td>\n    </tr>\n    <tr>\n      <th>484282</th>\n      <td>MSV000091804/updates/2023-04-28_Bjosephc_21f27...</td>\n      <td>MSV000091804</td>\n      <td>peak</td>\n      <td>1</td>\n      <td>2023-04-28_Bjosephc_21f275f7</td>\n      <td>2023-04-26 03:16:00</td>\n      <td>152195548</td>\n      <td>145</td>\n      <td>DEFAULT</td>\n      <td>7066.0</td>\n      <td>33.0</td>\n      <td>Thermo Fisher Scientific</td>\n      <td>Q Exactive HF</td>\n      <td>DONE</td>\n      <td>mzspec:MSV000091804:2022081806</td>\n    </tr>\n    <tr>\n      <th>484283</th>\n      <td>MSV000091804/updates/2023-04-28_Bjosephc_262e3...</td>\n      <td>MSV000091804</td>\n      <td>peak</td>\n      <td>1</td>\n      <td>2023-04-28_Bjosephc_262e347f</td>\n      <td>2023-04-26 02:57:00</td>\n      <td>68710868</td>\n      <td>65</td>\n      <td>DEFAULT</td>\n      <td>3603.0</td>\n      <td>0.0</td>\n      <td>Thermo Fisher Scientific</td>\n      <td>Q Exactive HF</td>\n      <td>DONE</td>\n      <td>mzspec:MSV000091804:BJ2022111603</td>\n    </tr>\n    <tr>\n      <th>484284</th>\n      <td>MSV000091804/updates/2023-04-28_Bjosephc_262e3...</td>\n      <td>MSV000091804</td>\n      <td>peak</td>\n      <td>1</td>\n      <td>2023-04-28_Bjosephc_262e347f</td>\n      <td>2023-04-26 02:57:00</td>\n      <td>71670891</td>\n      <td>68</td>\n      <td>DEFAULT</td>\n      <td>3795.0</td>\n      <td>0.0</td>\n      <td>Thermo Fisher Scientific</td>\n      <td>Q Exactive HF</td>\n      <td>DONE</td>\n      <td>mzspec:MSV000091804:BJ2022111604</td>\n    </tr>\n    <tr>\n      <th>484285</th>\n      <td>MSV000091804/updates/2023-04-28_Bjosephc_262e3...</td>\n      <td>MSV000091804</td>\n      <td>peak</td>\n      <td>1</td>\n      <td>2023-04-28_Bjosephc_262e347f</td>\n      <td>2023-04-26 02:57:00</td>\n      <td>67641981</td>\n      <td>64</td>\n      <td>DEFAULT</td>\n      <td>3751.0</td>\n      <td>0.0</td>\n      <td>Thermo Fisher Scientific</td>\n      <td>Q Exactive HF</td>\n      <td>DONE</td>\n      <td>mzspec:MSV000091804:BJ2022111605</td>\n    </tr>\n  </tbody>\n</table>\n<p>1080125 rows × 15 columns</p>\n</div>"
     },
     "execution_count": 25,
     "metadata": {},
     "output_type": "execute_result"
    }
   ],
   "source": [
    "file_stats[\"file_usi\"] = [\n",
    "    usi_utils.create_simple_file_usi(path, dataset) for path, dataset in zip(file_stats[\"filepath\"],\n",
    "                                                                             file_stats[\"dataset\"])\n",
    "]\n",
    "file_stats"
   ],
   "metadata": {
    "collapsed": false,
    "ExecuteTime": {
     "end_time": "2024-03-09T08:14:08.307294400Z",
     "start_time": "2024-03-09T08:14:04.401092700Z"
    }
   }
  },
  {
   "cell_type": "code",
   "execution_count": 26,
   "outputs": [],
   "source": [
    "file_stats = file_stats.sort_values(by=[\"spectra_ms2\"], ascending=[False]).drop_duplicates([\"file_usi\"])"
   ],
   "metadata": {
    "collapsed": false,
    "ExecuteTime": {
     "end_time": "2024-03-09T08:14:12.252199700Z",
     "start_time": "2024-03-09T08:14:11.495060300Z"
    }
   }
  },
  {
   "cell_type": "code",
   "execution_count": 27,
   "outputs": [],
   "source": [
    "file_stats.to_parquet(r\"..\\local_files\\all_gnps_files\\all_gnps_files.parquet\", index=False)"
   ],
   "metadata": {
    "collapsed": false,
    "ExecuteTime": {
     "end_time": "2024-03-09T08:14:17.037346700Z",
     "start_time": "2024-03-09T08:14:13.040030500Z"
    }
   }
  },
  {
   "cell_type": "code",
   "execution_count": 28,
   "outputs": [
    {
     "data": {
      "text/plain": "(679308, 16)"
     },
     "execution_count": 28,
     "metadata": {},
     "output_type": "execute_result"
    }
   ],
   "source": [
    "file_stats = pd.read_parquet(\"../local_files/all_gnps_files/all_gnps_files.parquet\", dtype=dtype)\n",
    "file_stats[\"has_stats\"] = True\n",
    "file_stats.shape"
   ],
   "metadata": {
    "collapsed": false,
    "ExecuteTime": {
     "end_time": "2024-03-09T08:14:30.739679900Z",
     "start_time": "2024-03-09T08:14:28.801331900Z"
    }
   }
  },
  {
   "cell_type": "code",
   "execution_count": 29,
   "outputs": [
    {
     "data": {
      "text/plain": "   spectra_ms1_sum  spectra_ms2_sum  spectra_ms1_mean  spectra_ms2_mean  \\\n0     2.259182e+09     6.782255e+09       3325.711448       9984.064711   \n1     2.062382e+06     8.665498e+06        585.072908       2458.297305   \n2     6.090121e+07     9.059531e+07       1002.356990       1491.084400   \n3     2.995789e+07     5.342205e+07       1718.853061       3065.124161   \n4     3.715273e+07     8.715331e+07       1174.010428       2754.007142   \n\n       size_mb  num_files  num_files_processed                  description  \\\n0  122272081.0     679308               376061  ALL_GNPS/MASSIVE_mzML_mzXML   \n1      40819.0       3579                    0                         food   \n2    2797302.0      60781                10223                      microbe   \n3    1038980.0      20209                10448                        plant   \n4    1524156.0      32065                 1116                       gloabl   \n\n   num_files_with_stats  files_with_stats_percent  \n0                   NaN                       NaN  \n1                3525.0                  0.984912  \n2               60758.0                  0.999622  \n3               17429.0                  0.862438  \n4               31646.0                  0.986933  ",
      "text/html": "<div>\n<style scoped>\n    .dataframe tbody tr th:only-of-type {\n        vertical-align: middle;\n    }\n\n    .dataframe tbody tr th {\n        vertical-align: top;\n    }\n\n    .dataframe thead th {\n        text-align: right;\n    }\n</style>\n<table border=\"1\" class=\"dataframe\">\n  <thead>\n    <tr style=\"text-align: right;\">\n      <th></th>\n      <th>spectra_ms1_sum</th>\n      <th>spectra_ms2_sum</th>\n      <th>spectra_ms1_mean</th>\n      <th>spectra_ms2_mean</th>\n      <th>size_mb</th>\n      <th>num_files</th>\n      <th>num_files_processed</th>\n      <th>description</th>\n      <th>num_files_with_stats</th>\n      <th>files_with_stats_percent</th>\n    </tr>\n  </thead>\n  <tbody>\n    <tr>\n      <th>0</th>\n      <td>2.259182e+09</td>\n      <td>6.782255e+09</td>\n      <td>3325.711448</td>\n      <td>9984.064711</td>\n      <td>122272081.0</td>\n      <td>679308</td>\n      <td>376061</td>\n      <td>ALL_GNPS/MASSIVE_mzML_mzXML</td>\n      <td>NaN</td>\n      <td>NaN</td>\n    </tr>\n    <tr>\n      <th>1</th>\n      <td>2.062382e+06</td>\n      <td>8.665498e+06</td>\n      <td>585.072908</td>\n      <td>2458.297305</td>\n      <td>40819.0</td>\n      <td>3579</td>\n      <td>0</td>\n      <td>food</td>\n      <td>3525.0</td>\n      <td>0.984912</td>\n    </tr>\n    <tr>\n      <th>2</th>\n      <td>6.090121e+07</td>\n      <td>9.059531e+07</td>\n      <td>1002.356990</td>\n      <td>1491.084400</td>\n      <td>2797302.0</td>\n      <td>60781</td>\n      <td>10223</td>\n      <td>microbe</td>\n      <td>60758.0</td>\n      <td>0.999622</td>\n    </tr>\n    <tr>\n      <th>3</th>\n      <td>2.995789e+07</td>\n      <td>5.342205e+07</td>\n      <td>1718.853061</td>\n      <td>3065.124161</td>\n      <td>1038980.0</td>\n      <td>20209</td>\n      <td>10448</td>\n      <td>plant</td>\n      <td>17429.0</td>\n      <td>0.862438</td>\n    </tr>\n    <tr>\n      <th>4</th>\n      <td>3.715273e+07</td>\n      <td>8.715331e+07</td>\n      <td>1174.010428</td>\n      <td>2754.007142</td>\n      <td>1524156.0</td>\n      <td>32065</td>\n      <td>1116</td>\n      <td>gloabl</td>\n      <td>31646.0</td>\n      <td>0.986933</td>\n    </tr>\n  </tbody>\n</table>\n</div>"
     },
     "execution_count": 29,
     "metadata": {},
     "output_type": "execute_result"
    }
   ],
   "source": [
    "from masst_utils import SPECIAL_MASSTS\n",
    "\n",
    "rows = []\n",
    "num_files = len(file_stats)\n",
    "rows.append(\n",
    "    {\n",
    "        \"spectra_ms1_sum\": file_stats[\"spectra_ms1\"].sum(),\n",
    "        \"spectra_ms2_sum\": file_stats[\"spectra_ms2\"].sum(),\n",
    "        \"spectra_ms1_mean\": file_stats[\"spectra_ms1\"].sum() / num_files,\n",
    "        \"spectra_ms2_mean\": file_stats[\"spectra_ms2\"].sum() / num_files,\n",
    "        \"size_mb\": file_stats[\"size_mb\"].sum(),\n",
    "        \"num_files\": len(file_stats),\n",
    "        \"num_files_processed\": len(file_stats[file_stats[\"file_processed\"] == \"DONE\"]),\n",
    "        \"description\": \"ALL_GNPS/MASSIVE_mzML_mzXML\"\n",
    "    }\n",
    ")\n",
    "\n",
    "dfs = []\n",
    "for masst in SPECIAL_MASSTS:\n",
    "    file = masst.metadata_file\n",
    "    df = pd.read_csv(file)\n",
    "    df[\"masst\"] = masst.prefix\n",
    "\n",
    "    df = df.merge(file_stats, on=\"file_usi\", how=\"left\")\n",
    "    num_files = len(df)\n",
    "    has_stats = len(df[df[\"has_stats\"] == True])\n",
    "    rows.append(\n",
    "        {\n",
    "            \"spectra_ms1_sum\": df[\"spectra_ms1\"].sum(),\n",
    "            \"spectra_ms2_sum\": df[\"spectra_ms2\"].sum(),\n",
    "            \"spectra_ms1_mean\": df[\"spectra_ms1\"].sum() / has_stats,\n",
    "            \"spectra_ms2_mean\": df[\"spectra_ms2\"].sum() / has_stats,\n",
    "            \"size_mb\": df[\"size_mb\"].sum(),\n",
    "            \"num_files\": num_files,\n",
    "            \"num_files_processed\": len(df[df[\"file_processed\"] == \"DONE\"]),\n",
    "            \"num_files_with_stats\": has_stats,\n",
    "            \"files_with_stats_percent\": has_stats / num_files,\n",
    "            \"description\": masst.prefix\n",
    "        }\n",
    "    )\n",
    "    dfs.append(df)\n",
    "\n",
    "sum_df = pd.DataFrame(rows)\n",
    "sum_df.to_csv(\"../local_files/all_gnps_files/file_summary.csv\", index=False)\n",
    "sum_df"
   ],
   "metadata": {
    "collapsed": false,
    "pycharm": {
     "name": "#%%\n"
    },
    "ExecuteTime": {
     "end_time": "2024-03-09T08:14:34.603661200Z",
     "start_time": "2024-03-09T08:14:32.690587700Z"
    }
   }
  },
  {
   "cell_type": "code",
   "execution_count": 30,
   "outputs": [],
   "source": [
    "all_masst = pd.concat(dfs)\n",
    "all_masst.to_csv(\"../local_files/all_gnps_files/file_summary_combined.csv\", index=False)\n"
   ],
   "metadata": {
    "collapsed": false,
    "pycharm": {
     "name": "#%%\n"
    },
    "ExecuteTime": {
     "end_time": "2024-03-09T08:14:44.956400500Z",
     "start_time": "2024-03-09T08:14:43.273158600Z"
    }
   }
  },
  {
   "cell_type": "code",
   "execution_count": 31,
   "outputs": [
    {
     "data": {
      "text/plain": "            MassIVE                              Filename      node_id  \\\n2      MSV000084900  15NAVY01_v1_brk_1_GA4_01_39548.mzXML       peanut   \n3      MSV000084900  15NAVY01_v1_brk_2_GB4_01_39546.mzXML  grain/grass   \n4      MSV000084900  15NAVY01_v1_brk_3_GC4_01_39547.mzXML  grain/grass   \n5      MSV000084900  15NAVY01_v1_lun_1_GA5_01_39630.mzXML      complex   \n6      MSV000084900  15NAVY01_v1_lun_2_GB5_01_39627.mzXML        fruit   \n...             ...                                   ...          ...   \n32060           NaN                                   NaN          NaN   \n32061           NaN                                   NaN          NaN   \n32062           NaN                                   NaN          NaN   \n32063           NaN                                   NaN          NaN   \n32064           NaN                                   NaN          NaN   \n\n                                                file_usi   masst  \\\n2      mzspec:MSV000084900:15NAVY01_v1_brk_1_GA4_01_3...    food   \n3      mzspec:MSV000084900:15NAVY01_v1_brk_2_GB4_01_3...    food   \n4      mzspec:MSV000084900:15NAVY01_v1_brk_3_GC4_01_3...    food   \n5      mzspec:MSV000084900:15NAVY01_v1_lun_1_GA5_01_3...    food   \n6      mzspec:MSV000084900:15NAVY01_v1_lun_2_GB5_01_3...    food   \n...                                                  ...     ...   \n32060            mzspec:MSV000086989:NIST_POS_Samp_18-03  gloabl   \n32061                      mzspec:MSV000086989:QC_Mix_01  gloabl   \n32062                      mzspec:MSV000086989:QC_Mix_02  gloabl   \n32063                      mzspec:MSV000086989:QC_Mix_03  gloabl   \n32064                      mzspec:MSV000086989:QC_Mix_04  gloabl   \n\n                                                filepath       dataset  \\\n2      MSV000084900/peak/Global_Foodomics_composite_d...  MSV000084900   \n3      MSV000084900/ccms_peak/Global_Foodomics_compos...  MSV000084900   \n4      MSV000084900/ccms_peak/Global_Foodomics_compos...  MSV000084900   \n5      MSV000084900/peak/Global_Foodomics_composite_d...  MSV000084900   \n6      MSV000084900/ccms_peak/Global_Foodomics_compos...  MSV000084900   \n...                                                  ...           ...   \n32060  MSV000086989/peak/mzXML_Files/NIST_POS_Samp_18...  MSV000086989   \n32061      MSV000086989/peak/mzXML_Files/QC_Mix_01.mzXML  MSV000086989   \n32062    MSV000086989/ccms_peak/RAW_Files/QC_Mix_02.mzML  MSV000086989   \n32063      MSV000086989/peak/mzXML_Files/QC_Mix_03.mzXML  MSV000086989   \n32064    MSV000086989/ccms_peak/RAW_Files/QC_Mix_04.mzML  MSV000086989   \n\n      collection  is_update update_name  ...            DOIDCommonName  \\\n2           peak        0.0         NaN  ...                       NaN   \n3      ccms_peak        0.0         NaN  ...                       NaN   \n4      ccms_peak        0.0         NaN  ...                       NaN   \n5           peak        0.0         NaN  ...                       NaN   \n6      ccms_peak        0.0         NaN  ...                       NaN   \n...          ...        ...         ...  ...                       ...   \n32060       peak        0.0         NaN  ...  No Information Collected   \n32061       peak        0.0         NaN  ...                  blank_QC   \n32062  ccms_peak        0.0         NaN  ...                  blank_QC   \n32063       peak        0.0         NaN  ...                  blank_QC   \n32064  ccms_peak        0.0         NaN  ...                  blank_QC   \n\n                   HealthStatus                 LifeStage       NCBITaxonomy  \\\n2                           NaN                       NaN                NaN   \n3                           NaN                       NaN                NaN   \n4                           NaN                       NaN                NaN   \n5                           NaN                       NaN                NaN   \n6                           NaN                       NaN                NaN   \n...                         ...                       ...                ...   \n32060  No Information Collected  No Information Collected  9606|Homo sapiens   \n32061                  blank_QC                  blank_QC           blank_QC   \n32062                  blank_QC                  blank_QC           blank_QC   \n32063                  blank_QC                  blank_QC           blank_QC   \n32064                  blank_QC                  blank_QC           blank_QC   \n\n       SampleType  SampleTypeSub1 UBERONBodyPartName DataSource  \\\n2             NaN             NaN                NaN        NaN   \n3             NaN             NaN                NaN        NaN   \n4             NaN             NaN                NaN        NaN   \n5             NaN             NaN                NaN        NaN   \n6             NaN             NaN                NaN        NaN   \n...           ...             ...                ...        ...   \n32060      animal        biofluid              feces       GNPS   \n32061    blank_QC        blank_QC           blank_QC       GNPS   \n32062    blank_QC        blank_QC           blank_QC       GNPS   \n32063    blank_QC        blank_QC           blank_QC       GNPS   \n32064    blank_QC        blank_QC           blank_QC       GNPS   \n\n                                                      ID  \\\n2                                                    NaN   \n3                                                    NaN   \n4                                                    NaN   \n5                                                    NaN   \n6                                                    NaN   \n...                                                  ...   \n32060  feces_No Information Collected_9606|Homo sapie...   \n32061                blank_QC_blank_QC_blank_QC_blank_QC   \n32062                blank_QC_blank_QC_blank_QC_blank_QC   \n32063                blank_QC_blank_QC_blank_QC_blank_QC   \n32064                blank_QC_blank_QC_blank_QC_blank_QC   \n\n                                             ID_to_keep  \n2                                                   NaN  \n3                                                   NaN  \n4                                                   NaN  \n5                                                   NaN  \n6                                                   NaN  \n...                                                 ...  \n32060  feces_No Information Collected_9606|Homo sapiens  \n32061                        blank_QC_blank_QC_blank_QC  \n32062                        blank_QC_blank_QC_blank_QC  \n32063                        blank_QC_blank_QC_blank_QC  \n32064                        blank_QC_blank_QC_blank_QC  \n\n[113358 rows x 42 columns]",
      "text/html": "<div>\n<style scoped>\n    .dataframe tbody tr th:only-of-type {\n        vertical-align: middle;\n    }\n\n    .dataframe tbody tr th {\n        vertical-align: top;\n    }\n\n    .dataframe thead th {\n        text-align: right;\n    }\n</style>\n<table border=\"1\" class=\"dataframe\">\n  <thead>\n    <tr style=\"text-align: right;\">\n      <th></th>\n      <th>MassIVE</th>\n      <th>Filename</th>\n      <th>node_id</th>\n      <th>file_usi</th>\n      <th>masst</th>\n      <th>filepath</th>\n      <th>dataset</th>\n      <th>collection</th>\n      <th>is_update</th>\n      <th>update_name</th>\n      <th>...</th>\n      <th>DOIDCommonName</th>\n      <th>HealthStatus</th>\n      <th>LifeStage</th>\n      <th>NCBITaxonomy</th>\n      <th>SampleType</th>\n      <th>SampleTypeSub1</th>\n      <th>UBERONBodyPartName</th>\n      <th>DataSource</th>\n      <th>ID</th>\n      <th>ID_to_keep</th>\n    </tr>\n  </thead>\n  <tbody>\n    <tr>\n      <th>2</th>\n      <td>MSV000084900</td>\n      <td>15NAVY01_v1_brk_1_GA4_01_39548.mzXML</td>\n      <td>peanut</td>\n      <td>mzspec:MSV000084900:15NAVY01_v1_brk_1_GA4_01_3...</td>\n      <td>food</td>\n      <td>MSV000084900/peak/Global_Foodomics_composite_d...</td>\n      <td>MSV000084900</td>\n      <td>peak</td>\n      <td>0.0</td>\n      <td>NaN</td>\n      <td>...</td>\n      <td>NaN</td>\n      <td>NaN</td>\n      <td>NaN</td>\n      <td>NaN</td>\n      <td>NaN</td>\n      <td>NaN</td>\n      <td>NaN</td>\n      <td>NaN</td>\n      <td>NaN</td>\n      <td>NaN</td>\n    </tr>\n    <tr>\n      <th>3</th>\n      <td>MSV000084900</td>\n      <td>15NAVY01_v1_brk_2_GB4_01_39546.mzXML</td>\n      <td>grain/grass</td>\n      <td>mzspec:MSV000084900:15NAVY01_v1_brk_2_GB4_01_3...</td>\n      <td>food</td>\n      <td>MSV000084900/ccms_peak/Global_Foodomics_compos...</td>\n      <td>MSV000084900</td>\n      <td>ccms_peak</td>\n      <td>0.0</td>\n      <td>NaN</td>\n      <td>...</td>\n      <td>NaN</td>\n      <td>NaN</td>\n      <td>NaN</td>\n      <td>NaN</td>\n      <td>NaN</td>\n      <td>NaN</td>\n      <td>NaN</td>\n      <td>NaN</td>\n      <td>NaN</td>\n      <td>NaN</td>\n    </tr>\n    <tr>\n      <th>4</th>\n      <td>MSV000084900</td>\n      <td>15NAVY01_v1_brk_3_GC4_01_39547.mzXML</td>\n      <td>grain/grass</td>\n      <td>mzspec:MSV000084900:15NAVY01_v1_brk_3_GC4_01_3...</td>\n      <td>food</td>\n      <td>MSV000084900/ccms_peak/Global_Foodomics_compos...</td>\n      <td>MSV000084900</td>\n      <td>ccms_peak</td>\n      <td>0.0</td>\n      <td>NaN</td>\n      <td>...</td>\n      <td>NaN</td>\n      <td>NaN</td>\n      <td>NaN</td>\n      <td>NaN</td>\n      <td>NaN</td>\n      <td>NaN</td>\n      <td>NaN</td>\n      <td>NaN</td>\n      <td>NaN</td>\n      <td>NaN</td>\n    </tr>\n    <tr>\n      <th>5</th>\n      <td>MSV000084900</td>\n      <td>15NAVY01_v1_lun_1_GA5_01_39630.mzXML</td>\n      <td>complex</td>\n      <td>mzspec:MSV000084900:15NAVY01_v1_lun_1_GA5_01_3...</td>\n      <td>food</td>\n      <td>MSV000084900/peak/Global_Foodomics_composite_d...</td>\n      <td>MSV000084900</td>\n      <td>peak</td>\n      <td>0.0</td>\n      <td>NaN</td>\n      <td>...</td>\n      <td>NaN</td>\n      <td>NaN</td>\n      <td>NaN</td>\n      <td>NaN</td>\n      <td>NaN</td>\n      <td>NaN</td>\n      <td>NaN</td>\n      <td>NaN</td>\n      <td>NaN</td>\n      <td>NaN</td>\n    </tr>\n    <tr>\n      <th>6</th>\n      <td>MSV000084900</td>\n      <td>15NAVY01_v1_lun_2_GB5_01_39627.mzXML</td>\n      <td>fruit</td>\n      <td>mzspec:MSV000084900:15NAVY01_v1_lun_2_GB5_01_3...</td>\n      <td>food</td>\n      <td>MSV000084900/ccms_peak/Global_Foodomics_compos...</td>\n      <td>MSV000084900</td>\n      <td>ccms_peak</td>\n      <td>0.0</td>\n      <td>NaN</td>\n      <td>...</td>\n      <td>NaN</td>\n      <td>NaN</td>\n      <td>NaN</td>\n      <td>NaN</td>\n      <td>NaN</td>\n      <td>NaN</td>\n      <td>NaN</td>\n      <td>NaN</td>\n      <td>NaN</td>\n      <td>NaN</td>\n    </tr>\n    <tr>\n      <th>...</th>\n      <td>...</td>\n      <td>...</td>\n      <td>...</td>\n      <td>...</td>\n      <td>...</td>\n      <td>...</td>\n      <td>...</td>\n      <td>...</td>\n      <td>...</td>\n      <td>...</td>\n      <td>...</td>\n      <td>...</td>\n      <td>...</td>\n      <td>...</td>\n      <td>...</td>\n      <td>...</td>\n      <td>...</td>\n      <td>...</td>\n      <td>...</td>\n      <td>...</td>\n      <td>...</td>\n    </tr>\n    <tr>\n      <th>32060</th>\n      <td>NaN</td>\n      <td>NaN</td>\n      <td>NaN</td>\n      <td>mzspec:MSV000086989:NIST_POS_Samp_18-03</td>\n      <td>gloabl</td>\n      <td>MSV000086989/peak/mzXML_Files/NIST_POS_Samp_18...</td>\n      <td>MSV000086989</td>\n      <td>peak</td>\n      <td>0.0</td>\n      <td>NaN</td>\n      <td>...</td>\n      <td>No Information Collected</td>\n      <td>No Information Collected</td>\n      <td>No Information Collected</td>\n      <td>9606|Homo sapiens</td>\n      <td>animal</td>\n      <td>biofluid</td>\n      <td>feces</td>\n      <td>GNPS</td>\n      <td>feces_No Information Collected_9606|Homo sapie...</td>\n      <td>feces_No Information Collected_9606|Homo sapiens</td>\n    </tr>\n    <tr>\n      <th>32061</th>\n      <td>NaN</td>\n      <td>NaN</td>\n      <td>NaN</td>\n      <td>mzspec:MSV000086989:QC_Mix_01</td>\n      <td>gloabl</td>\n      <td>MSV000086989/peak/mzXML_Files/QC_Mix_01.mzXML</td>\n      <td>MSV000086989</td>\n      <td>peak</td>\n      <td>0.0</td>\n      <td>NaN</td>\n      <td>...</td>\n      <td>blank_QC</td>\n      <td>blank_QC</td>\n      <td>blank_QC</td>\n      <td>blank_QC</td>\n      <td>blank_QC</td>\n      <td>blank_QC</td>\n      <td>blank_QC</td>\n      <td>GNPS</td>\n      <td>blank_QC_blank_QC_blank_QC_blank_QC</td>\n      <td>blank_QC_blank_QC_blank_QC</td>\n    </tr>\n    <tr>\n      <th>32062</th>\n      <td>NaN</td>\n      <td>NaN</td>\n      <td>NaN</td>\n      <td>mzspec:MSV000086989:QC_Mix_02</td>\n      <td>gloabl</td>\n      <td>MSV000086989/ccms_peak/RAW_Files/QC_Mix_02.mzML</td>\n      <td>MSV000086989</td>\n      <td>ccms_peak</td>\n      <td>0.0</td>\n      <td>NaN</td>\n      <td>...</td>\n      <td>blank_QC</td>\n      <td>blank_QC</td>\n      <td>blank_QC</td>\n      <td>blank_QC</td>\n      <td>blank_QC</td>\n      <td>blank_QC</td>\n      <td>blank_QC</td>\n      <td>GNPS</td>\n      <td>blank_QC_blank_QC_blank_QC_blank_QC</td>\n      <td>blank_QC_blank_QC_blank_QC</td>\n    </tr>\n    <tr>\n      <th>32063</th>\n      <td>NaN</td>\n      <td>NaN</td>\n      <td>NaN</td>\n      <td>mzspec:MSV000086989:QC_Mix_03</td>\n      <td>gloabl</td>\n      <td>MSV000086989/peak/mzXML_Files/QC_Mix_03.mzXML</td>\n      <td>MSV000086989</td>\n      <td>peak</td>\n      <td>0.0</td>\n      <td>NaN</td>\n      <td>...</td>\n      <td>blank_QC</td>\n      <td>blank_QC</td>\n      <td>blank_QC</td>\n      <td>blank_QC</td>\n      <td>blank_QC</td>\n      <td>blank_QC</td>\n      <td>blank_QC</td>\n      <td>GNPS</td>\n      <td>blank_QC_blank_QC_blank_QC_blank_QC</td>\n      <td>blank_QC_blank_QC_blank_QC</td>\n    </tr>\n    <tr>\n      <th>32064</th>\n      <td>NaN</td>\n      <td>NaN</td>\n      <td>NaN</td>\n      <td>mzspec:MSV000086989:QC_Mix_04</td>\n      <td>gloabl</td>\n      <td>MSV000086989/ccms_peak/RAW_Files/QC_Mix_04.mzML</td>\n      <td>MSV000086989</td>\n      <td>ccms_peak</td>\n      <td>0.0</td>\n      <td>NaN</td>\n      <td>...</td>\n      <td>blank_QC</td>\n      <td>blank_QC</td>\n      <td>blank_QC</td>\n      <td>blank_QC</td>\n      <td>blank_QC</td>\n      <td>blank_QC</td>\n      <td>blank_QC</td>\n      <td>GNPS</td>\n      <td>blank_QC_blank_QC_blank_QC_blank_QC</td>\n      <td>blank_QC_blank_QC_blank_QC</td>\n    </tr>\n  </tbody>\n</table>\n<p>113358 rows × 42 columns</p>\n</div>"
     },
     "execution_count": 31,
     "metadata": {},
     "output_type": "execute_result"
    }
   ],
   "source": [
    "all_masst[all_masst[\"has_stats\"]==True]"
   ],
   "metadata": {
    "collapsed": false,
    "pycharm": {
     "name": "#%%\n"
    },
    "ExecuteTime": {
     "end_time": "2024-03-09T08:14:45.179963600Z",
     "start_time": "2024-03-09T08:14:44.956400500Z"
    }
   }
  },
  {
   "cell_type": "code",
   "execution_count": 31,
   "outputs": [],
   "source": [],
   "metadata": {
    "collapsed": false,
    "pycharm": {
     "name": "#%%\n"
    },
    "ExecuteTime": {
     "end_time": "2024-03-09T08:14:45.195955Z",
     "start_time": "2024-03-09T08:14:45.174956200Z"
    }
   }
  },
  {
   "cell_type": "code",
   "execution_count": 32,
   "outputs": [],
   "source": [],
   "metadata": {
    "collapsed": false,
    "pycharm": {
     "name": "#%%\n"
    },
    "ExecuteTime": {
     "end_time": "2024-03-09T08:14:46.136734600Z",
     "start_time": "2024-03-09T08:14:46.101727500Z"
    }
   }
  },
  {
   "cell_type": "code",
   "execution_count": 33,
   "outputs": [
    {
     "data": {
      "text/plain": "  file_processed  filepath  dataset  collection  is_update  update_name  \\\n0           DONE    376061   376061      376061     376061         8490   \n1         FAILED     66903    66903       66903      66903          642   \n2             No    236344   236344      236344     236344         8332   \n\n   create_time    size  size_mb  sample_type  spectra_ms1  spectra_ms2  \\\n0       376061  376061   376061       376061       376061       376061   \n1        66903   66903    66903        66903        66903        66903   \n2       236344  236344   236344       236344       235791       235796   \n\n   instrument_vendor  instrument_model  file_usi  has_stats  \n0             376061            376061    376061     376061  \n1                 42                42     66903      66903  \n2             233068            233068    236344     236344  ",
      "text/html": "<div>\n<style scoped>\n    .dataframe tbody tr th:only-of-type {\n        vertical-align: middle;\n    }\n\n    .dataframe tbody tr th {\n        vertical-align: top;\n    }\n\n    .dataframe thead th {\n        text-align: right;\n    }\n</style>\n<table border=\"1\" class=\"dataframe\">\n  <thead>\n    <tr style=\"text-align: right;\">\n      <th></th>\n      <th>file_processed</th>\n      <th>filepath</th>\n      <th>dataset</th>\n      <th>collection</th>\n      <th>is_update</th>\n      <th>update_name</th>\n      <th>create_time</th>\n      <th>size</th>\n      <th>size_mb</th>\n      <th>sample_type</th>\n      <th>spectra_ms1</th>\n      <th>spectra_ms2</th>\n      <th>instrument_vendor</th>\n      <th>instrument_model</th>\n      <th>file_usi</th>\n      <th>has_stats</th>\n    </tr>\n  </thead>\n  <tbody>\n    <tr>\n      <th>0</th>\n      <td>DONE</td>\n      <td>376061</td>\n      <td>376061</td>\n      <td>376061</td>\n      <td>376061</td>\n      <td>8490</td>\n      <td>376061</td>\n      <td>376061</td>\n      <td>376061</td>\n      <td>376061</td>\n      <td>376061</td>\n      <td>376061</td>\n      <td>376061</td>\n      <td>376061</td>\n      <td>376061</td>\n      <td>376061</td>\n    </tr>\n    <tr>\n      <th>1</th>\n      <td>FAILED</td>\n      <td>66903</td>\n      <td>66903</td>\n      <td>66903</td>\n      <td>66903</td>\n      <td>642</td>\n      <td>66903</td>\n      <td>66903</td>\n      <td>66903</td>\n      <td>66903</td>\n      <td>66903</td>\n      <td>66903</td>\n      <td>42</td>\n      <td>42</td>\n      <td>66903</td>\n      <td>66903</td>\n    </tr>\n    <tr>\n      <th>2</th>\n      <td>No</td>\n      <td>236344</td>\n      <td>236344</td>\n      <td>236344</td>\n      <td>236344</td>\n      <td>8332</td>\n      <td>236344</td>\n      <td>236344</td>\n      <td>236344</td>\n      <td>236344</td>\n      <td>235791</td>\n      <td>235796</td>\n      <td>233068</td>\n      <td>233068</td>\n      <td>236344</td>\n      <td>236344</td>\n    </tr>\n  </tbody>\n</table>\n</div>"
     },
     "execution_count": 33,
     "metadata": {},
     "output_type": "execute_result"
    }
   ],
   "source": [
    "file_stats.groupby(\"file_processed\").count().reset_index()"
   ],
   "metadata": {
    "collapsed": false,
    "pycharm": {
     "name": "#%%\n"
    },
    "ExecuteTime": {
     "end_time": "2024-03-09T08:14:46.712062800Z",
     "start_time": "2024-03-09T08:14:46.115722300Z"
    }
   }
  },
  {
   "cell_type": "code",
   "execution_count": 44,
   "outputs": [
    {
     "data": {
      "text/plain": "            MassIVE                                           Filename  \\\n187    MSV000079447             MSV000079447/-Green_RB4_01_11689.mzXML   \n188    MSV000079447             MSV000079447/-Green_RC2_01_11685.mzXML   \n189    MSV000079447             MSV000079447/-Green_RC3_01_11745.mzXML   \n190    MSV000079447             MSV000079447/-Green_RC4_01_11696.mzXML   \n191    MSV000079447             MSV000079447/-Green_RC5_01_11715.mzXML   \n...             ...                                                ...   \n20204  MSV000092992  MSV000092992/Tradescantia-pallida-Flower-ethyl...   \n20205  MSV000092992  MSV000092992/Vanilla-planifolia--ethylacetate-...   \n20206  MSV000092992  MSV000092992/Welwitschia-mirabilis--ethylaceta...   \n20207  MSV000092992  MSV000092992/Zamia-pumila--ethylacetate-2020.mzML   \n20208  MSV000092992  MSV000092992/Zamioculcas-zamiifolia--ethylacet...   \n\n      node_id                                           file_usi  masst  \\\n187       NaN            mzspec:MSV000079447:-Green_RB4_01_11689  plant   \n188       NaN            mzspec:MSV000079447:-Green_RC2_01_11685  plant   \n189       NaN            mzspec:MSV000079447:-Green_RC3_01_11745  plant   \n190       NaN            mzspec:MSV000079447:-Green_RC4_01_11696  plant   \n191       NaN            mzspec:MSV000079447:-Green_RC5_01_11715  plant   \n...       ...                                                ...    ...   \n20204     NaN  mzspec:MSV000092992:Tradescantia-pallida-Flowe...  plant   \n20205     NaN  mzspec:MSV000092992:Vanilla-planifolia--ethyla...  plant   \n20206     NaN  mzspec:MSV000092992:Welwitschia-mirabilis--eth...  plant   \n20207     NaN  mzspec:MSV000092992:Zamia-pumila--ethylacetate...  plant   \n20208     NaN  mzspec:MSV000092992:Zamioculcas-zamiifolia--et...  plant   \n\n      filepath dataset collection  is_update update_name  ... DOIDCommonName  \\\n187        NaN     NaN        NaN        NaN         NaN  ...            NaN   \n188        NaN     NaN        NaN        NaN         NaN  ...            NaN   \n189        NaN     NaN        NaN        NaN         NaN  ...            NaN   \n190        NaN     NaN        NaN        NaN         NaN  ...            NaN   \n191        NaN     NaN        NaN        NaN         NaN  ...            NaN   \n...        ...     ...        ...        ...         ...  ...            ...   \n20204      NaN     NaN        NaN        NaN         NaN  ...            NaN   \n20205      NaN     NaN        NaN        NaN         NaN  ...            NaN   \n20206      NaN     NaN        NaN        NaN         NaN  ...            NaN   \n20207      NaN     NaN        NaN        NaN         NaN  ...            NaN   \n20208      NaN     NaN        NaN        NaN         NaN  ...            NaN   \n\n       HealthStatus  LifeStage NCBITaxonomy  SampleType  SampleTypeSub1  \\\n187             NaN        NaN          NaN         NaN             NaN   \n188             NaN        NaN          NaN         NaN             NaN   \n189             NaN        NaN          NaN         NaN             NaN   \n190             NaN        NaN          NaN         NaN             NaN   \n191             NaN        NaN          NaN         NaN             NaN   \n...             ...        ...          ...         ...             ...   \n20204           NaN        NaN          NaN         NaN             NaN   \n20205           NaN        NaN          NaN         NaN             NaN   \n20206           NaN        NaN          NaN         NaN             NaN   \n20207           NaN        NaN          NaN         NaN             NaN   \n20208           NaN        NaN          NaN         NaN             NaN   \n\n      UBERONBodyPartName DataSource   ID ID_to_keep  \n187                  NaN        NaN  NaN        NaN  \n188                  NaN        NaN  NaN        NaN  \n189                  NaN        NaN  NaN        NaN  \n190                  NaN        NaN  NaN        NaN  \n191                  NaN        NaN  NaN        NaN  \n...                  ...        ...  ...        ...  \n20204                NaN        NaN  NaN        NaN  \n20205                NaN        NaN  NaN        NaN  \n20206                NaN        NaN  NaN        NaN  \n20207                NaN        NaN  NaN        NaN  \n20208                NaN        NaN  NaN        NaN  \n\n[2780 rows x 42 columns]",
      "text/html": "<div>\n<style scoped>\n    .dataframe tbody tr th:only-of-type {\n        vertical-align: middle;\n    }\n\n    .dataframe tbody tr th {\n        vertical-align: top;\n    }\n\n    .dataframe thead th {\n        text-align: right;\n    }\n</style>\n<table border=\"1\" class=\"dataframe\">\n  <thead>\n    <tr style=\"text-align: right;\">\n      <th></th>\n      <th>MassIVE</th>\n      <th>Filename</th>\n      <th>node_id</th>\n      <th>file_usi</th>\n      <th>masst</th>\n      <th>filepath</th>\n      <th>dataset</th>\n      <th>collection</th>\n      <th>is_update</th>\n      <th>update_name</th>\n      <th>...</th>\n      <th>DOIDCommonName</th>\n      <th>HealthStatus</th>\n      <th>LifeStage</th>\n      <th>NCBITaxonomy</th>\n      <th>SampleType</th>\n      <th>SampleTypeSub1</th>\n      <th>UBERONBodyPartName</th>\n      <th>DataSource</th>\n      <th>ID</th>\n      <th>ID_to_keep</th>\n    </tr>\n  </thead>\n  <tbody>\n    <tr>\n      <th>187</th>\n      <td>MSV000079447</td>\n      <td>MSV000079447/-Green_RB4_01_11689.mzXML</td>\n      <td>NaN</td>\n      <td>mzspec:MSV000079447:-Green_RB4_01_11689</td>\n      <td>plant</td>\n      <td>NaN</td>\n      <td>NaN</td>\n      <td>NaN</td>\n      <td>NaN</td>\n      <td>NaN</td>\n      <td>...</td>\n      <td>NaN</td>\n      <td>NaN</td>\n      <td>NaN</td>\n      <td>NaN</td>\n      <td>NaN</td>\n      <td>NaN</td>\n      <td>NaN</td>\n      <td>NaN</td>\n      <td>NaN</td>\n      <td>NaN</td>\n    </tr>\n    <tr>\n      <th>188</th>\n      <td>MSV000079447</td>\n      <td>MSV000079447/-Green_RC2_01_11685.mzXML</td>\n      <td>NaN</td>\n      <td>mzspec:MSV000079447:-Green_RC2_01_11685</td>\n      <td>plant</td>\n      <td>NaN</td>\n      <td>NaN</td>\n      <td>NaN</td>\n      <td>NaN</td>\n      <td>NaN</td>\n      <td>...</td>\n      <td>NaN</td>\n      <td>NaN</td>\n      <td>NaN</td>\n      <td>NaN</td>\n      <td>NaN</td>\n      <td>NaN</td>\n      <td>NaN</td>\n      <td>NaN</td>\n      <td>NaN</td>\n      <td>NaN</td>\n    </tr>\n    <tr>\n      <th>189</th>\n      <td>MSV000079447</td>\n      <td>MSV000079447/-Green_RC3_01_11745.mzXML</td>\n      <td>NaN</td>\n      <td>mzspec:MSV000079447:-Green_RC3_01_11745</td>\n      <td>plant</td>\n      <td>NaN</td>\n      <td>NaN</td>\n      <td>NaN</td>\n      <td>NaN</td>\n      <td>NaN</td>\n      <td>...</td>\n      <td>NaN</td>\n      <td>NaN</td>\n      <td>NaN</td>\n      <td>NaN</td>\n      <td>NaN</td>\n      <td>NaN</td>\n      <td>NaN</td>\n      <td>NaN</td>\n      <td>NaN</td>\n      <td>NaN</td>\n    </tr>\n    <tr>\n      <th>190</th>\n      <td>MSV000079447</td>\n      <td>MSV000079447/-Green_RC4_01_11696.mzXML</td>\n      <td>NaN</td>\n      <td>mzspec:MSV000079447:-Green_RC4_01_11696</td>\n      <td>plant</td>\n      <td>NaN</td>\n      <td>NaN</td>\n      <td>NaN</td>\n      <td>NaN</td>\n      <td>NaN</td>\n      <td>...</td>\n      <td>NaN</td>\n      <td>NaN</td>\n      <td>NaN</td>\n      <td>NaN</td>\n      <td>NaN</td>\n      <td>NaN</td>\n      <td>NaN</td>\n      <td>NaN</td>\n      <td>NaN</td>\n      <td>NaN</td>\n    </tr>\n    <tr>\n      <th>191</th>\n      <td>MSV000079447</td>\n      <td>MSV000079447/-Green_RC5_01_11715.mzXML</td>\n      <td>NaN</td>\n      <td>mzspec:MSV000079447:-Green_RC5_01_11715</td>\n      <td>plant</td>\n      <td>NaN</td>\n      <td>NaN</td>\n      <td>NaN</td>\n      <td>NaN</td>\n      <td>NaN</td>\n      <td>...</td>\n      <td>NaN</td>\n      <td>NaN</td>\n      <td>NaN</td>\n      <td>NaN</td>\n      <td>NaN</td>\n      <td>NaN</td>\n      <td>NaN</td>\n      <td>NaN</td>\n      <td>NaN</td>\n      <td>NaN</td>\n    </tr>\n    <tr>\n      <th>...</th>\n      <td>...</td>\n      <td>...</td>\n      <td>...</td>\n      <td>...</td>\n      <td>...</td>\n      <td>...</td>\n      <td>...</td>\n      <td>...</td>\n      <td>...</td>\n      <td>...</td>\n      <td>...</td>\n      <td>...</td>\n      <td>...</td>\n      <td>...</td>\n      <td>...</td>\n      <td>...</td>\n      <td>...</td>\n      <td>...</td>\n      <td>...</td>\n      <td>...</td>\n      <td>...</td>\n    </tr>\n    <tr>\n      <th>20204</th>\n      <td>MSV000092992</td>\n      <td>MSV000092992/Tradescantia-pallida-Flower-ethyl...</td>\n      <td>NaN</td>\n      <td>mzspec:MSV000092992:Tradescantia-pallida-Flowe...</td>\n      <td>plant</td>\n      <td>NaN</td>\n      <td>NaN</td>\n      <td>NaN</td>\n      <td>NaN</td>\n      <td>NaN</td>\n      <td>...</td>\n      <td>NaN</td>\n      <td>NaN</td>\n      <td>NaN</td>\n      <td>NaN</td>\n      <td>NaN</td>\n      <td>NaN</td>\n      <td>NaN</td>\n      <td>NaN</td>\n      <td>NaN</td>\n      <td>NaN</td>\n    </tr>\n    <tr>\n      <th>20205</th>\n      <td>MSV000092992</td>\n      <td>MSV000092992/Vanilla-planifolia--ethylacetate-...</td>\n      <td>NaN</td>\n      <td>mzspec:MSV000092992:Vanilla-planifolia--ethyla...</td>\n      <td>plant</td>\n      <td>NaN</td>\n      <td>NaN</td>\n      <td>NaN</td>\n      <td>NaN</td>\n      <td>NaN</td>\n      <td>...</td>\n      <td>NaN</td>\n      <td>NaN</td>\n      <td>NaN</td>\n      <td>NaN</td>\n      <td>NaN</td>\n      <td>NaN</td>\n      <td>NaN</td>\n      <td>NaN</td>\n      <td>NaN</td>\n      <td>NaN</td>\n    </tr>\n    <tr>\n      <th>20206</th>\n      <td>MSV000092992</td>\n      <td>MSV000092992/Welwitschia-mirabilis--ethylaceta...</td>\n      <td>NaN</td>\n      <td>mzspec:MSV000092992:Welwitschia-mirabilis--eth...</td>\n      <td>plant</td>\n      <td>NaN</td>\n      <td>NaN</td>\n      <td>NaN</td>\n      <td>NaN</td>\n      <td>NaN</td>\n      <td>...</td>\n      <td>NaN</td>\n      <td>NaN</td>\n      <td>NaN</td>\n      <td>NaN</td>\n      <td>NaN</td>\n      <td>NaN</td>\n      <td>NaN</td>\n      <td>NaN</td>\n      <td>NaN</td>\n      <td>NaN</td>\n    </tr>\n    <tr>\n      <th>20207</th>\n      <td>MSV000092992</td>\n      <td>MSV000092992/Zamia-pumila--ethylacetate-2020.mzML</td>\n      <td>NaN</td>\n      <td>mzspec:MSV000092992:Zamia-pumila--ethylacetate...</td>\n      <td>plant</td>\n      <td>NaN</td>\n      <td>NaN</td>\n      <td>NaN</td>\n      <td>NaN</td>\n      <td>NaN</td>\n      <td>...</td>\n      <td>NaN</td>\n      <td>NaN</td>\n      <td>NaN</td>\n      <td>NaN</td>\n      <td>NaN</td>\n      <td>NaN</td>\n      <td>NaN</td>\n      <td>NaN</td>\n      <td>NaN</td>\n      <td>NaN</td>\n    </tr>\n    <tr>\n      <th>20208</th>\n      <td>MSV000092992</td>\n      <td>MSV000092992/Zamioculcas-zamiifolia--ethylacet...</td>\n      <td>NaN</td>\n      <td>mzspec:MSV000092992:Zamioculcas-zamiifolia--et...</td>\n      <td>plant</td>\n      <td>NaN</td>\n      <td>NaN</td>\n      <td>NaN</td>\n      <td>NaN</td>\n      <td>NaN</td>\n      <td>...</td>\n      <td>NaN</td>\n      <td>NaN</td>\n      <td>NaN</td>\n      <td>NaN</td>\n      <td>NaN</td>\n      <td>NaN</td>\n      <td>NaN</td>\n      <td>NaN</td>\n      <td>NaN</td>\n      <td>NaN</td>\n    </tr>\n  </tbody>\n</table>\n<p>2780 rows × 42 columns</p>\n</div>"
     },
     "execution_count": 44,
     "metadata": {},
     "output_type": "execute_result"
    }
   ],
   "source": [
    "plant_masst_missing = all_masst[(all_masst[\"has_stats\"]!=True) & (all_masst[\"masst\"]==\"plant\")]\n",
    "plant_masst_missing.to_csv(\"../local_files/all_gnps_files/file_summary_plant_missing_stats.csv\", index=False)\n",
    "plant_masst_missing"
   ],
   "metadata": {
    "collapsed": false,
    "pycharm": {
     "name": "#%%\n"
    },
    "ExecuteTime": {
     "end_time": "2024-03-09T08:38:04.895291600Z",
     "start_time": "2024-03-09T08:38:04.837294200Z"
    }
   }
  },
  {
   "cell_type": "code",
   "execution_count": 40,
   "outputs": [
    {
     "data": {
      "text/plain": "     masst  MassIVE  Filename  node_id  file_usi  filepath  dataset  \\\n0     food     3579      3579     3579      3579      3525     3525   \n1   gloabl        0         0        0     32065     31646    31646   \n2  microbe    60781     60781        0     60781     60758    60758   \n3    plant    20209     20209        0     20209     17429    17429   \n\n   collection  is_update  update_name  ...  DOIDCommonName  HealthStatus  \\\n0        3525       3525            0  ...               0             0   \n1       31646      31646           98  ...           32065         32065   \n2       60758      60758          978  ...               0             0   \n3       17429      17429         2867  ...               0             0   \n\n   LifeStage  NCBITaxonomy  SampleType  SampleTypeSub1  UBERONBodyPartName  \\\n0          0             0           0               0                   0   \n1      32065         32065       32065           32065               32065   \n2          0             0           0               0                   0   \n3          0             0           0               0                   0   \n\n   DataSource     ID  ID_to_keep  \n0           0      0           0  \n1       32065  32065       32065  \n2           0      0           0  \n3           0      0           0  \n\n[4 rows x 42 columns]",
      "text/html": "<div>\n<style scoped>\n    .dataframe tbody tr th:only-of-type {\n        vertical-align: middle;\n    }\n\n    .dataframe tbody tr th {\n        vertical-align: top;\n    }\n\n    .dataframe thead th {\n        text-align: right;\n    }\n</style>\n<table border=\"1\" class=\"dataframe\">\n  <thead>\n    <tr style=\"text-align: right;\">\n      <th></th>\n      <th>masst</th>\n      <th>MassIVE</th>\n      <th>Filename</th>\n      <th>node_id</th>\n      <th>file_usi</th>\n      <th>filepath</th>\n      <th>dataset</th>\n      <th>collection</th>\n      <th>is_update</th>\n      <th>update_name</th>\n      <th>...</th>\n      <th>DOIDCommonName</th>\n      <th>HealthStatus</th>\n      <th>LifeStage</th>\n      <th>NCBITaxonomy</th>\n      <th>SampleType</th>\n      <th>SampleTypeSub1</th>\n      <th>UBERONBodyPartName</th>\n      <th>DataSource</th>\n      <th>ID</th>\n      <th>ID_to_keep</th>\n    </tr>\n  </thead>\n  <tbody>\n    <tr>\n      <th>0</th>\n      <td>food</td>\n      <td>3579</td>\n      <td>3579</td>\n      <td>3579</td>\n      <td>3579</td>\n      <td>3525</td>\n      <td>3525</td>\n      <td>3525</td>\n      <td>3525</td>\n      <td>0</td>\n      <td>...</td>\n      <td>0</td>\n      <td>0</td>\n      <td>0</td>\n      <td>0</td>\n      <td>0</td>\n      <td>0</td>\n      <td>0</td>\n      <td>0</td>\n      <td>0</td>\n      <td>0</td>\n    </tr>\n    <tr>\n      <th>1</th>\n      <td>gloabl</td>\n      <td>0</td>\n      <td>0</td>\n      <td>0</td>\n      <td>32065</td>\n      <td>31646</td>\n      <td>31646</td>\n      <td>31646</td>\n      <td>31646</td>\n      <td>98</td>\n      <td>...</td>\n      <td>32065</td>\n      <td>32065</td>\n      <td>32065</td>\n      <td>32065</td>\n      <td>32065</td>\n      <td>32065</td>\n      <td>32065</td>\n      <td>32065</td>\n      <td>32065</td>\n      <td>32065</td>\n    </tr>\n    <tr>\n      <th>2</th>\n      <td>microbe</td>\n      <td>60781</td>\n      <td>60781</td>\n      <td>0</td>\n      <td>60781</td>\n      <td>60758</td>\n      <td>60758</td>\n      <td>60758</td>\n      <td>60758</td>\n      <td>978</td>\n      <td>...</td>\n      <td>0</td>\n      <td>0</td>\n      <td>0</td>\n      <td>0</td>\n      <td>0</td>\n      <td>0</td>\n      <td>0</td>\n      <td>0</td>\n      <td>0</td>\n      <td>0</td>\n    </tr>\n    <tr>\n      <th>3</th>\n      <td>plant</td>\n      <td>20209</td>\n      <td>20209</td>\n      <td>0</td>\n      <td>20209</td>\n      <td>17429</td>\n      <td>17429</td>\n      <td>17429</td>\n      <td>17429</td>\n      <td>2867</td>\n      <td>...</td>\n      <td>0</td>\n      <td>0</td>\n      <td>0</td>\n      <td>0</td>\n      <td>0</td>\n      <td>0</td>\n      <td>0</td>\n      <td>0</td>\n      <td>0</td>\n      <td>0</td>\n    </tr>\n  </tbody>\n</table>\n<p>4 rows × 42 columns</p>\n</div>"
     },
     "execution_count": 40,
     "metadata": {},
     "output_type": "execute_result"
    }
   ],
   "source": [
    "all_masst.groupby(\"masst\").count().reset_index()"
   ],
   "metadata": {
    "collapsed": false,
    "ExecuteTime": {
     "end_time": "2024-03-09T08:23:16.918195900Z",
     "start_time": "2024-03-09T08:23:16.569050100Z"
    }
   }
  },
  {
   "cell_type": "code",
   "execution_count": null,
   "outputs": [],
   "source": [],
   "metadata": {
    "collapsed": false
   }
  }
 ],
 "metadata": {
  "kernelspec": {
   "display_name": "Python 3",
   "language": "python",
   "name": "python3"
  },
  "language_info": {
   "codemirror_mode": {
    "name": "ipython",
    "version": 2
   },
   "file_extension": ".py",
   "mimetype": "text/x-python",
   "name": "python",
   "nbconvert_exporter": "python",
   "pygments_lexer": "ipython2",
   "version": "2.7.6"
  }
 },
 "nbformat": 4,
 "nbformat_minor": 0
}
